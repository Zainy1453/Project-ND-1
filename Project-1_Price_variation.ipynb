{
 "cells": [
  {
   "cell_type": "markdown",
   "id": "04d13558",
   "metadata": {},
   "source": [
    "### *Q:How do prices vary through the year in both cities ? when is the season and off season in both cities ?*"
   ]
  },
  {
   "cell_type": "markdown",
   "id": "3c77188c",
   "metadata": {},
   "source": [
    "<font size ='3'>*First, let's read in the data and necessary libraries*<font/>"
   ]
  },
  {
   "cell_type": "code",
   "execution_count": 1,
   "id": "3bcabb3e",
   "metadata": {},
   "outputs": [],
   "source": [
    "import numpy as np\n",
    "import pandas as pd\n",
    "import matplotlib.pyplot as plt\n",
    "import seaborn as sns\n",
    "from mypy import print_side_by_side\n",
    "from mypy import display_side_by_side\n",
    "from sklearn.linear_model import LinearRegression\n",
    "from sklearn.model_selection import train_test_split\n",
    "from sklearn.metrics import r2_score, mean_squared_error\n",
    "%matplotlib inline\n",
    "%load_ext autoreload\n",
    "%autoreload 2"
   ]
  },
  {
   "cell_type": "code",
   "execution_count": 2,
   "id": "d9f6b95a",
   "metadata": {},
   "outputs": [],
   "source": [
    "import warnings\n",
    "warnings.simplefilter(action='ignore', category=FutureWarning)\n",
    "\n",
    "b_cal_1 = pd.read_csv('b_cal_1.csv', index_col =0 )\n",
    "s_cal_1 = pd.read_csv('s_cal_1.csv', index_col =0 )\n",
    "\n",
    "b_list_d = pd.read_csv('b_list_d.csv', index_col = 0)\n",
    "s_list_d = pd.read_csv('s_list_d.csv', index_col = 0)\n",
    "\n",
    "b_rev_score = pd.read_csv('b_rev_score.csv', index_col = 0)\n",
    "s_rev_score = pd.read_csv('s_rev_score.csv', index_col = 0)"
   ]
  },
  {
   "cell_type": "markdown",
   "id": "c3b1abe1",
   "metadata": {},
   "source": [
    " _______________________________________________________________________________________________________________________"
   ]
  },
  {
   "cell_type": "markdown",
   "id": "b4a36630",
   "metadata": {},
   "source": [
    "### Task 2 & 3: Data Understanding & Preparation"
   ]
  },
  {
   "cell_type": "code",
   "execution_count": null,
   "id": "f42e740e",
   "metadata": {},
   "outputs": [],
   "source": []
  }
 ],
 "metadata": {
  "kernelspec": {
   "display_name": "Python 3",
   "language": "python",
   "name": "python3"
  },
  "language_info": {
   "codemirror_mode": {
    "name": "ipython",
    "version": 3
   },
   "file_extension": ".py",
   "mimetype": "text/x-python",
   "name": "python",
   "nbconvert_exporter": "python",
   "pygments_lexer": "ipython3",
   "version": "3.8.8"
  }
 },
 "nbformat": 4,
 "nbformat_minor": 5
}
