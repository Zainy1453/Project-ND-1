{
 "cells": [
  {
   "cell_type": "markdown",
   "id": "b7a1f5b9",
   "metadata": {},
   "source": [
    "### A Look at the Data\n",
    "\n",
    "In order to get a better understanding of the data we will be looking at throughout this lesson, let's take a look at some of the characteristics of the dataset.\n",
    "\n",
    "First, let's read in the data and necessary libraries."
   ]
  },
  {
   "cell_type": "code",
   "execution_count": 79,
   "id": "8f26d86c",
   "metadata": {},
   "outputs": [],
   "source": [
    "import numpy as np\n",
    "import pandas as pd\n",
    "import matplotlib.pyplot as plt\n",
    "import seaborn as sns\n",
    "%matplotlib inline"
   ]
  },
  {
   "cell_type": "code",
   "execution_count": 80,
   "id": "cbce64f9",
   "metadata": {},
   "outputs": [],
   "source": [
    "b_cal = pd.read_csv('boston_calendar.csv')\n",
    "b_list = pd.read_csv('boston_listings.csv')\n",
    "b_rev = pd.read_csv('boston_reviews.csv')\n",
    "\n",
    "s_cal = pd.read_csv('seatle_calendar.csv')\n",
    "s_list = pd.read_csv('seatle_listings.csv')\n",
    "s_rev = pd.read_csv('seatle_reviews.csv')"
   ]
  },
  {
   "cell_type": "markdown",
   "id": "d6f0dd31",
   "metadata": {},
   "source": [
    " "
   ]
  },
  {
   "cell_type": "markdown",
   "id": "d05eeab2",
   "metadata": {},
   "source": [
    " "
   ]
  },
  {
   "cell_type": "markdown",
   "id": "0911bb63",
   "metadata": {},
   "source": [
    "## Task 1: Busines Understanding"
   ]
  },
  {
   "cell_type": "markdown",
   "id": "271d211d",
   "metadata": {},
   "source": [
    "### Step 1: Basic Exploration with minimal cleaning\n",
    "*To familiarize with the Data and to gather insights to formulate questions*"
   ]
  },
  {
   "cell_type": "markdown",
   "id": "28402b3d",
   "metadata": {},
   "source": [
    "> **Boston & Seatle Calendar**"
   ]
  },
  {
   "cell_type": "markdown",
   "id": "5abeb5b1",
   "metadata": {},
   "source": [
    "#### Check the sizes of cols and rows "
   ]
  },
  {
   "cell_type": "code",
   "execution_count": 81,
   "id": "dea110b6",
   "metadata": {},
   "outputs": [
    {
     "name": "stdout",
     "output_type": "stream",
     "text": [
      "   listing_id        date available price\n",
      "0    12147973  2017-09-05         f   NaN\n",
      "1    12147973  2017-09-04         f   NaN\n",
      "\n",
      "\n",
      "   listing_id        date available   price\n",
      "0      241032  2016-01-04         t  $85.00\n",
      "1      241032  2016-01-05         t  $85.00\n",
      "\n",
      "\n",
      "b_cal  : (1308890, 4)\n",
      "s_cal  : (1393570, 4)\n"
     ]
    }
   ],
   "source": [
    "print(b_cal.head(2)),print('\\n'), print(s_cal.head(2))\n",
    "print('\\n')\n",
    "print(\"b_cal  :\", b_cal.shape)\n",
    "print(\"s_cal  :\", s_cal.shape)"
   ]
  },
  {
   "cell_type": "markdown",
   "id": "6464f867",
   "metadata": {},
   "source": [
    "  "
   ]
  },
  {
   "cell_type": "markdown",
   "id": "cbd63cd3",
   "metadata": {},
   "source": [
    "#### Check Nulls"
   ]
  },
  {
   "cell_type": "code",
   "execution_count": 82,
   "id": "506d0c7b",
   "metadata": {
    "scrolled": true
   },
   "outputs": [
    {
     "name": "stdout",
     "output_type": "stream",
     "text": [
      "Boston Cal: \n",
      "Cols with nulls:  price\n",
      "Null prop of price column:  0.5087157820748879\n",
      "Proportion of False(unit unavailable at this date ): 0.5087157820748879\n",
      "Nulls when units are available:  0\n",
      "\n",
      "\n",
      "Seatle Cal: \n",
      "Cols with nulls:  price\n",
      "Null prop of price column:  0.32938998399793334\n",
      "Proportion of False(unit unavailable at this date ): 0.32938998399793334\n",
      "Nulls when units are available:  0\n"
     ]
    }
   ],
   "source": [
    "print('Boston Cal: ')\n",
    "print(\"Cols with nulls: \", b_cal.isnull().sum()[b_cal.isnull().sum()>0].index[0])\n",
    "print(\"Null prop of price column: \", b_cal.price.isnull().sum()/b_cal.shape[0])\n",
    "print(\"Proportion of False(unit unavailable at this date ):\", b_cal.available[b_cal.available =='f' ].count()/b_cal.shape[0])\n",
    "#Since the proportions are the same, then, all nans are when the units aren't available, let's be more sure\n",
    "print(\"Nulls when units are available: \", b_cal[b_cal['available']== 't']['price'].isnull().sum())\n",
    "print('\\n')\n",
    "print('Seatle Cal: ')\n",
    "print(\"Cols with nulls: \", s_cal.isnull().sum()[s_cal.isnull().sum()>0].index[0])\n",
    "print(\"Null prop of price column: \", s_cal.price.isnull().sum()/s_cal.shape[0])\n",
    "print(\"Proportion of False(unit unavailable at this date ):\", s_cal.available[s_cal.available =='f' ].count()/s_cal.shape[0])\n",
    "#Since the proportions are the same, then, all nans are when the units aren't available, let's be more sure\n",
    "print(\"Nulls when units are available: \", s_cal[s_cal['available']== 't']['price'].isnull().sum())\n"
   ]
  },
  {
   "cell_type": "markdown",
   "id": "7fb67c54",
   "metadata": {},
   "source": [
    " "
   ]
  },
  {
   "cell_type": "markdown",
   "id": "24ca1fe2",
   "metadata": {},
   "source": [
    "#### Transfer Date column to datetime to ease manipulation, analysis and modeling. I create a dataframe with seperate date items from the Date column, to check the period in which the data was collected."
   ]
  },
  {
   "cell_type": "code",
   "execution_count": 83,
   "id": "121e4580",
   "metadata": {},
   "outputs": [],
   "source": [
    "def create_dateparts(df, date_col):\n",
    "    \n",
    "    df['date'] = pd.to_datetime(df.date)\n",
    "    print(df.date.dtype== 'datetime64[ns]')\n",
    "\n",
    "    b_date_df = pd.DataFrame()\n",
    "    b_date_df['year'] = df['date'].dt.year\n",
    "    b_date_df['month'] = df['date'].dt.month\n",
    "    b_date_df['day'] =df['date'].dt.day\n",
    "    b_date_df['dow'] =df['date'].dt.strftime(\"%A\")\n",
    "    df = df.join(b_date_df)\n",
    "    return df"
   ]
  },
  {
   "cell_type": "code",
   "execution_count": 91,
   "id": "88b18f24",
   "metadata": {},
   "outputs": [
    {
     "name": "stdout",
     "output_type": "stream",
     "text": [
      "True\n"
     ]
    },
    {
     "data": {
      "text/html": [
       "<div>\n",
       "<style scoped>\n",
       "    .dataframe tbody tr th:only-of-type {\n",
       "        vertical-align: middle;\n",
       "    }\n",
       "\n",
       "    .dataframe tbody tr th {\n",
       "        vertical-align: top;\n",
       "    }\n",
       "\n",
       "    .dataframe thead th {\n",
       "        text-align: right;\n",
       "    }\n",
       "</style>\n",
       "<table border=\"1\" class=\"dataframe\">\n",
       "  <thead>\n",
       "    <tr style=\"text-align: right;\">\n",
       "      <th></th>\n",
       "      <th>listing_id</th>\n",
       "      <th>date</th>\n",
       "      <th>available</th>\n",
       "      <th>price</th>\n",
       "      <th>year</th>\n",
       "      <th>month</th>\n",
       "      <th>day</th>\n",
       "      <th>dow</th>\n",
       "    </tr>\n",
       "  </thead>\n",
       "  <tbody>\n",
       "    <tr>\n",
       "      <th>0</th>\n",
       "      <td>12147973</td>\n",
       "      <td>2017-09-05</td>\n",
       "      <td>f</td>\n",
       "      <td>NaN</td>\n",
       "      <td>2017</td>\n",
       "      <td>9</td>\n",
       "      <td>5</td>\n",
       "      <td>Tuesday</td>\n",
       "    </tr>\n",
       "    <tr>\n",
       "      <th>1</th>\n",
       "      <td>12147973</td>\n",
       "      <td>2017-09-04</td>\n",
       "      <td>f</td>\n",
       "      <td>NaN</td>\n",
       "      <td>2017</td>\n",
       "      <td>9</td>\n",
       "      <td>4</td>\n",
       "      <td>Monday</td>\n",
       "    </tr>\n",
       "    <tr>\n",
       "      <th>2</th>\n",
       "      <td>12147973</td>\n",
       "      <td>2017-09-03</td>\n",
       "      <td>f</td>\n",
       "      <td>NaN</td>\n",
       "      <td>2017</td>\n",
       "      <td>9</td>\n",
       "      <td>3</td>\n",
       "      <td>Sunday</td>\n",
       "    </tr>\n",
       "  </tbody>\n",
       "</table>\n",
       "</div>"
      ],
      "text/plain": [
       "   listing_id       date available price  year  month  day      dow\n",
       "0    12147973 2017-09-05         f   NaN  2017      9    5  Tuesday\n",
       "1    12147973 2017-09-04         f   NaN  2017      9    4   Monday\n",
       "2    12147973 2017-09-03         f   NaN  2017      9    3   Sunday"
      ]
     },
     "execution_count": 91,
     "metadata": {},
     "output_type": "execute_result"
    }
   ],
   "source": [
    "b_cal_1 = create_dateparts(b_cal, 'date')\n",
    "b_cal_1.head(3)"
   ]
  },
  {
   "cell_type": "code",
   "execution_count": 92,
   "id": "f754eea1",
   "metadata": {},
   "outputs": [
    {
     "name": "stdout",
     "output_type": "stream",
     "text": [
      "True\n"
     ]
    },
    {
     "data": {
      "text/html": [
       "<div>\n",
       "<style scoped>\n",
       "    .dataframe tbody tr th:only-of-type {\n",
       "        vertical-align: middle;\n",
       "    }\n",
       "\n",
       "    .dataframe tbody tr th {\n",
       "        vertical-align: top;\n",
       "    }\n",
       "\n",
       "    .dataframe thead th {\n",
       "        text-align: right;\n",
       "    }\n",
       "</style>\n",
       "<table border=\"1\" class=\"dataframe\">\n",
       "  <thead>\n",
       "    <tr style=\"text-align: right;\">\n",
       "      <th></th>\n",
       "      <th>listing_id</th>\n",
       "      <th>date</th>\n",
       "      <th>available</th>\n",
       "      <th>price</th>\n",
       "      <th>year</th>\n",
       "      <th>month</th>\n",
       "      <th>day</th>\n",
       "      <th>dow</th>\n",
       "    </tr>\n",
       "  </thead>\n",
       "  <tbody>\n",
       "    <tr>\n",
       "      <th>0</th>\n",
       "      <td>241032</td>\n",
       "      <td>2016-01-04</td>\n",
       "      <td>t</td>\n",
       "      <td>$85.00</td>\n",
       "      <td>2016</td>\n",
       "      <td>1</td>\n",
       "      <td>4</td>\n",
       "      <td>Monday</td>\n",
       "    </tr>\n",
       "    <tr>\n",
       "      <th>1</th>\n",
       "      <td>241032</td>\n",
       "      <td>2016-01-05</td>\n",
       "      <td>t</td>\n",
       "      <td>$85.00</td>\n",
       "      <td>2016</td>\n",
       "      <td>1</td>\n",
       "      <td>5</td>\n",
       "      <td>Tuesday</td>\n",
       "    </tr>\n",
       "    <tr>\n",
       "      <th>2</th>\n",
       "      <td>241032</td>\n",
       "      <td>2016-01-06</td>\n",
       "      <td>f</td>\n",
       "      <td>NaN</td>\n",
       "      <td>2016</td>\n",
       "      <td>1</td>\n",
       "      <td>6</td>\n",
       "      <td>Wednesday</td>\n",
       "    </tr>\n",
       "  </tbody>\n",
       "</table>\n",
       "</div>"
      ],
      "text/plain": [
       "   listing_id       date available   price  year  month  day        dow\n",
       "0      241032 2016-01-04         t  $85.00  2016      1    4     Monday\n",
       "1      241032 2016-01-05         t  $85.00  2016      1    5    Tuesday\n",
       "2      241032 2016-01-06         f     NaN  2016      1    6  Wednesday"
      ]
     },
     "execution_count": 92,
     "metadata": {},
     "output_type": "execute_result"
    }
   ],
   "source": [
    "s_cal_1 = create_dateparts(s_cal, 'date')\n",
    "s_cal_1.head(3)"
   ]
  },
  {
   "cell_type": "code",
   "execution_count": 98,
   "id": "6aa01eb5",
   "metadata": {},
   "outputs": [
    {
     "name": "stdout",
     "output_type": "stream",
     "text": [
      "Number of unique Listing IDs in Boston Calendar:  3585\n",
      "Number of unique Listing IDs in Seatle Calendar:  3818\n"
     ]
    }
   ],
   "source": [
    "print(\"Number of unique Listing IDs in Boston Calendar: \", len(b_cal_1.listing_id.unique()))\n",
    "print(\"Number of unique Listing IDs in Seatle Calendar: \", len(s_cal_1.listing_id.unique()))"
   ]
  },
  {
   "cell_type": "code",
   "execution_count": 93,
   "id": "dfef9e4f",
   "metadata": {},
   "outputs": [],
   "source": [
    "def get_period_df(df):\n",
    "    period =pd.DataFrame(df.groupby(['year','month'], sort = True)['day'].value_counts())\n",
    "    period = period.rename(columns={'day':'count'}, level=0)\n",
    "    period = period.reset_index().sort_values(by=['year', 'month']).reset_index(drop = True)\n",
    "    return period"
   ]
  },
  {
   "cell_type": "code",
   "execution_count": 96,
   "id": "bdda90af",
   "metadata": {},
   "outputs": [
    {
     "data": {
      "text/html": [
       "<div>\n",
       "<style scoped>\n",
       "    .dataframe tbody tr th:only-of-type {\n",
       "        vertical-align: middle;\n",
       "    }\n",
       "\n",
       "    .dataframe tbody tr th {\n",
       "        vertical-align: top;\n",
       "    }\n",
       "\n",
       "    .dataframe thead th {\n",
       "        text-align: right;\n",
       "    }\n",
       "</style>\n",
       "<table border=\"1\" class=\"dataframe\">\n",
       "  <thead>\n",
       "    <tr style=\"text-align: right;\">\n",
       "      <th></th>\n",
       "      <th>year</th>\n",
       "      <th>month</th>\n",
       "      <th>day</th>\n",
       "      <th>count</th>\n",
       "    </tr>\n",
       "  </thead>\n",
       "  <tbody>\n",
       "    <tr>\n",
       "      <th>0</th>\n",
       "      <td>2016</td>\n",
       "      <td>9</td>\n",
       "      <td>6</td>\n",
       "      <td>3586</td>\n",
       "    </tr>\n",
       "    <tr>\n",
       "      <th>1</th>\n",
       "      <td>2016</td>\n",
       "      <td>9</td>\n",
       "      <td>7</td>\n",
       "      <td>3586</td>\n",
       "    </tr>\n",
       "    <tr>\n",
       "      <th>2</th>\n",
       "      <td>2016</td>\n",
       "      <td>9</td>\n",
       "      <td>8</td>\n",
       "      <td>3586</td>\n",
       "    </tr>\n",
       "    <tr>\n",
       "      <th>3</th>\n",
       "      <td>2016</td>\n",
       "      <td>9</td>\n",
       "      <td>9</td>\n",
       "      <td>3586</td>\n",
       "    </tr>\n",
       "    <tr>\n",
       "      <th>4</th>\n",
       "      <td>2016</td>\n",
       "      <td>9</td>\n",
       "      <td>10</td>\n",
       "      <td>3586</td>\n",
       "    </tr>\n",
       "    <tr>\n",
       "      <th>...</th>\n",
       "      <td>...</td>\n",
       "      <td>...</td>\n",
       "      <td>...</td>\n",
       "      <td>...</td>\n",
       "    </tr>\n",
       "    <tr>\n",
       "      <th>360</th>\n",
       "      <td>2017</td>\n",
       "      <td>9</td>\n",
       "      <td>1</td>\n",
       "      <td>3586</td>\n",
       "    </tr>\n",
       "    <tr>\n",
       "      <th>361</th>\n",
       "      <td>2017</td>\n",
       "      <td>9</td>\n",
       "      <td>2</td>\n",
       "      <td>3586</td>\n",
       "    </tr>\n",
       "    <tr>\n",
       "      <th>362</th>\n",
       "      <td>2017</td>\n",
       "      <td>9</td>\n",
       "      <td>3</td>\n",
       "      <td>3586</td>\n",
       "    </tr>\n",
       "    <tr>\n",
       "      <th>363</th>\n",
       "      <td>2017</td>\n",
       "      <td>9</td>\n",
       "      <td>4</td>\n",
       "      <td>3586</td>\n",
       "    </tr>\n",
       "    <tr>\n",
       "      <th>364</th>\n",
       "      <td>2017</td>\n",
       "      <td>9</td>\n",
       "      <td>5</td>\n",
       "      <td>3586</td>\n",
       "    </tr>\n",
       "  </tbody>\n",
       "</table>\n",
       "<p>365 rows × 4 columns</p>\n",
       "</div>"
      ],
      "text/plain": [
       "     year  month  day  count\n",
       "0    2016      9    6   3586\n",
       "1    2016      9    7   3586\n",
       "2    2016      9    8   3586\n",
       "3    2016      9    9   3586\n",
       "4    2016      9   10   3586\n",
       "..    ...    ...  ...    ...\n",
       "360  2017      9    1   3586\n",
       "361  2017      9    2   3586\n",
       "362  2017      9    3   3586\n",
       "363  2017      9    4   3586\n",
       "364  2017      9    5   3586\n",
       "\n",
       "[365 rows x 4 columns]"
      ]
     },
     "execution_count": 96,
     "metadata": {},
     "output_type": "execute_result"
    }
   ],
   "source": [
    "b_period =get_period_df(b_cal_1)\n",
    "b_period"
   ]
  },
  {
   "cell_type": "code",
   "execution_count": 97,
   "id": "5898eef3",
   "metadata": {},
   "outputs": [
    {
     "data": {
      "text/html": [
       "<div>\n",
       "<style scoped>\n",
       "    .dataframe tbody tr th:only-of-type {\n",
       "        vertical-align: middle;\n",
       "    }\n",
       "\n",
       "    .dataframe tbody tr th {\n",
       "        vertical-align: top;\n",
       "    }\n",
       "\n",
       "    .dataframe thead th {\n",
       "        text-align: right;\n",
       "    }\n",
       "</style>\n",
       "<table border=\"1\" class=\"dataframe\">\n",
       "  <thead>\n",
       "    <tr style=\"text-align: right;\">\n",
       "      <th></th>\n",
       "      <th>year</th>\n",
       "      <th>month</th>\n",
       "      <th>day</th>\n",
       "      <th>count</th>\n",
       "    </tr>\n",
       "  </thead>\n",
       "  <tbody>\n",
       "    <tr>\n",
       "      <th>0</th>\n",
       "      <td>2016</td>\n",
       "      <td>1</td>\n",
       "      <td>4</td>\n",
       "      <td>3818</td>\n",
       "    </tr>\n",
       "    <tr>\n",
       "      <th>1</th>\n",
       "      <td>2016</td>\n",
       "      <td>1</td>\n",
       "      <td>5</td>\n",
       "      <td>3818</td>\n",
       "    </tr>\n",
       "    <tr>\n",
       "      <th>2</th>\n",
       "      <td>2016</td>\n",
       "      <td>1</td>\n",
       "      <td>6</td>\n",
       "      <td>3818</td>\n",
       "    </tr>\n",
       "    <tr>\n",
       "      <th>3</th>\n",
       "      <td>2016</td>\n",
       "      <td>1</td>\n",
       "      <td>7</td>\n",
       "      <td>3818</td>\n",
       "    </tr>\n",
       "    <tr>\n",
       "      <th>4</th>\n",
       "      <td>2016</td>\n",
       "      <td>1</td>\n",
       "      <td>8</td>\n",
       "      <td>3818</td>\n",
       "    </tr>\n",
       "    <tr>\n",
       "      <th>...</th>\n",
       "      <td>...</td>\n",
       "      <td>...</td>\n",
       "      <td>...</td>\n",
       "      <td>...</td>\n",
       "    </tr>\n",
       "    <tr>\n",
       "      <th>360</th>\n",
       "      <td>2016</td>\n",
       "      <td>12</td>\n",
       "      <td>29</td>\n",
       "      <td>3818</td>\n",
       "    </tr>\n",
       "    <tr>\n",
       "      <th>361</th>\n",
       "      <td>2016</td>\n",
       "      <td>12</td>\n",
       "      <td>30</td>\n",
       "      <td>3818</td>\n",
       "    </tr>\n",
       "    <tr>\n",
       "      <th>362</th>\n",
       "      <td>2016</td>\n",
       "      <td>12</td>\n",
       "      <td>31</td>\n",
       "      <td>3818</td>\n",
       "    </tr>\n",
       "    <tr>\n",
       "      <th>363</th>\n",
       "      <td>2017</td>\n",
       "      <td>1</td>\n",
       "      <td>1</td>\n",
       "      <td>3818</td>\n",
       "    </tr>\n",
       "    <tr>\n",
       "      <th>364</th>\n",
       "      <td>2017</td>\n",
       "      <td>1</td>\n",
       "      <td>2</td>\n",
       "      <td>3818</td>\n",
       "    </tr>\n",
       "  </tbody>\n",
       "</table>\n",
       "<p>365 rows × 4 columns</p>\n",
       "</div>"
      ],
      "text/plain": [
       "     year  month  day  count\n",
       "0    2016      1    4   3818\n",
       "1    2016      1    5   3818\n",
       "2    2016      1    6   3818\n",
       "3    2016      1    7   3818\n",
       "4    2016      1    8   3818\n",
       "..    ...    ...  ...    ...\n",
       "360  2016     12   29   3818\n",
       "361  2016     12   30   3818\n",
       "362  2016     12   31   3818\n",
       "363  2017      1    1   3818\n",
       "364  2017      1    2   3818\n",
       "\n",
       "[365 rows x 4 columns]"
      ]
     },
     "execution_count": 97,
     "metadata": {},
     "output_type": "execute_result"
    }
   ],
   "source": [
    "s_period =get_period_df(s_cal_1)\n",
    "s_period"
   ]
  },
  {
   "cell_type": "code",
   "execution_count": 130,
   "id": "6f798fc5",
   "metadata": {},
   "outputs": [
    {
     "name": "stdout",
     "output_type": "stream",
     "text": [
      "[3586]\n",
      "[3818]\n"
     ]
    }
   ],
   "source": [
    "print(b_period['count'].unique())\n",
    "print(s_period['count'].unique())"
   ]
  },
  {
   "cell_type": "markdown",
   "id": "8ecbb976",
   "metadata": {},
   "source": [
    "#### Counts are the equivalent to the numbers of unique ids because all the ids are spanning the same time period by day.  Let's check any anomalies"
   ]
  },
  {
   "cell_type": "code",
   "execution_count": 105,
   "id": "032984ec",
   "metadata": {},
   "outputs": [],
   "source": [
    "def check_anomalies(df, col):\n",
    "    list_ids_not_year_long = []\n",
    "\n",
    "    for i in sorted(list(df.col.unique())):\n",
    "        if df[df[col]== i].shape[0] != 365:\n",
    "            list_ids_not_year_long.append(i)\n",
    "    print(\"Entry Id that doesn't span 1 year: \" , list_ids_not_year_long)"
   ]
  },
  {
   "cell_type": "code",
   "execution_count": 106,
   "id": "7a3d58d0",
   "metadata": {},
   "outputs": [
    {
     "name": "stdout",
     "output_type": "stream",
     "text": [
      "Entry Id that doesn't span 1 year:  [12898806]\n"
     ]
    }
   ],
   "source": [
    "#Boston\n",
    "check_anomalies(b_cal_1, 'listing_id')"
   ]
  },
  {
   "cell_type": "code",
   "execution_count": 107,
   "id": "dddd5f69",
   "metadata": {},
   "outputs": [
    {
     "name": "stdout",
     "output_type": "stream",
     "text": [
      "Entry Id that doesn't span 1 year:  []\n"
     ]
    }
   ],
   "source": [
    "#Seatle\n",
    "check_anomalies(s_cal_1, 'listing_id')"
   ]
  },
  {
   "cell_type": "code",
   "execution_count": 123,
   "id": "101aeba2",
   "metadata": {},
   "outputs": [
    {
     "name": "stdout",
     "output_type": "stream",
     "text": [
      "Span of the entries for this listing, should be 365:  730\n",
      "Should be 1:  2\n"
     ]
    }
   ],
   "source": [
    "## check this entry in Boston Calendar\n",
    "print(\"Span of the entries for this listing, should be 365: \", b_cal_1[b_cal_1['listing_id']== 12898806].shape[0])\n",
    "## 2 years, seems like a duplicate as 730 = 365 * 2\n",
    "one_or_two = pd.DataFrame(b_cal_1[b_cal_1['listing_id']==12898806].groupby(['year', 'month', 'day'])['day'].count()).day.unique()[0]\n",
    "print(\"Should be 1: \", one_or_two)\n",
    "## It indeed is :)"
   ]
  },
  {
   "cell_type": "code",
   "execution_count": null,
   "id": "0719586b",
   "metadata": {},
   "outputs": [],
   "source": [
    "### Manage  this duplcate"
   ]
  },
  {
   "cell_type": "markdown",
   "id": "20c28022",
   "metadata": {},
   "source": [
    "/////////////////////////////////////////////////////////////////////////////////////////////////////////////////////////////////////////////////////////////////////////////////////////////////////////////////////////////////////////////////////\n",
    "### Comments:  \n",
    "[Boston & Seatle Calendar]\n",
    "- The datasets have information about listing dates, availability and price tracked over a year for ever listing id\n",
    "- There are no data entry errors, all nulls are due to the structuring of the Data (the listings that aren't available has no price)\n",
    "<br><br>\n",
    "- The Boston calendar Dataset ranges from `September'16` to `September'17`, No nulls \n",
    "- It has `1308890` rows and  `4` cols\n",
    "- I added 4 cols that contain dateparts that will aid further analysis and model\n",
    "- The Seatle calendar Dataset ranges from `January'16` to `January'17`, No nulls\n",
    "- It has `1393570` rows and  `4` cols\n",
    "- I added 4 cols that contain dateparts that will aid further analysis and model\n",
    "<br><br>\n",
    "- Number of unique Listing IDs in Boston Calendar:  `3585`\n",
    "- Number of unique Listing IDs in Seatle Calendar:  `3818`\n",
    "- Listing id `12898806` is a duplicate, has to be fixed!"
   ]
  },
  {
   "cell_type": "markdown",
   "id": "a86040cf",
   "metadata": {},
   "source": [
    "////////////////////////////////////////////////////////////////////////////////////////////////////////////////////////////////////////////////////////////////////////////////////////////////////////////////////////////////////////////////////"
   ]
  },
  {
   "cell_type": "markdown",
   "id": "e8b224bb",
   "metadata": {},
   "source": [
    " _______________________________________________________________________________________________________________________"
   ]
  },
  {
   "cell_type": "markdown",
   "id": "aebe6e13",
   "metadata": {},
   "source": [
    "## Step 1: Continue - "
   ]
  },
  {
   "cell_type": "markdown",
   "id": "940cb2e1",
   "metadata": {},
   "source": [
    "> **Boston & Seatle Listings**"
   ]
  },
  {
   "cell_type": "code",
   "execution_count": 18,
   "id": "5d1d6a03",
   "metadata": {},
   "outputs": [
    {
     "data": {
      "text/html": [
       "<div>\n",
       "<style scoped>\n",
       "    .dataframe tbody tr th:only-of-type {\n",
       "        vertical-align: middle;\n",
       "    }\n",
       "\n",
       "    .dataframe tbody tr th {\n",
       "        vertical-align: top;\n",
       "    }\n",
       "\n",
       "    .dataframe thead th {\n",
       "        text-align: right;\n",
       "    }\n",
       "</style>\n",
       "<table border=\"1\" class=\"dataframe\">\n",
       "  <thead>\n",
       "    <tr style=\"text-align: right;\">\n",
       "      <th></th>\n",
       "      <th>id</th>\n",
       "      <th>listing_url</th>\n",
       "      <th>scrape_id</th>\n",
       "      <th>last_scraped</th>\n",
       "      <th>name</th>\n",
       "      <th>summary</th>\n",
       "      <th>space</th>\n",
       "      <th>description</th>\n",
       "      <th>experiences_offered</th>\n",
       "      <th>neighborhood_overview</th>\n",
       "      <th>...</th>\n",
       "      <th>review_scores_value</th>\n",
       "      <th>requires_license</th>\n",
       "      <th>license</th>\n",
       "      <th>jurisdiction_names</th>\n",
       "      <th>instant_bookable</th>\n",
       "      <th>cancellation_policy</th>\n",
       "      <th>require_guest_profile_picture</th>\n",
       "      <th>require_guest_phone_verification</th>\n",
       "      <th>calculated_host_listings_count</th>\n",
       "      <th>reviews_per_month</th>\n",
       "    </tr>\n",
       "  </thead>\n",
       "  <tbody>\n",
       "    <tr>\n",
       "      <th>0</th>\n",
       "      <td>12147973</td>\n",
       "      <td>https://www.airbnb.com/rooms/12147973</td>\n",
       "      <td>20160906204935</td>\n",
       "      <td>2016-09-07</td>\n",
       "      <td>Sunny Bungalow in the City</td>\n",
       "      <td>Cozy, sunny, family home.  Master bedroom high...</td>\n",
       "      <td>The house has an open and cozy feel at the sam...</td>\n",
       "      <td>Cozy, sunny, family home.  Master bedroom high...</td>\n",
       "      <td>none</td>\n",
       "      <td>Roslindale is quiet, convenient and friendly. ...</td>\n",
       "      <td>...</td>\n",
       "      <td>NaN</td>\n",
       "      <td>f</td>\n",
       "      <td>NaN</td>\n",
       "      <td>NaN</td>\n",
       "      <td>f</td>\n",
       "      <td>moderate</td>\n",
       "      <td>f</td>\n",
       "      <td>f</td>\n",
       "      <td>1</td>\n",
       "      <td>NaN</td>\n",
       "    </tr>\n",
       "  </tbody>\n",
       "</table>\n",
       "<p>1 rows × 95 columns</p>\n",
       "</div>"
      ],
      "text/plain": [
       "         id                            listing_url       scrape_id  \\\n",
       "0  12147973  https://www.airbnb.com/rooms/12147973  20160906204935   \n",
       "\n",
       "  last_scraped                        name  \\\n",
       "0   2016-09-07  Sunny Bungalow in the City   \n",
       "\n",
       "                                             summary  \\\n",
       "0  Cozy, sunny, family home.  Master bedroom high...   \n",
       "\n",
       "                                               space  \\\n",
       "0  The house has an open and cozy feel at the sam...   \n",
       "\n",
       "                                         description experiences_offered  \\\n",
       "0  Cozy, sunny, family home.  Master bedroom high...                none   \n",
       "\n",
       "                               neighborhood_overview  ... review_scores_value  \\\n",
       "0  Roslindale is quiet, convenient and friendly. ...  ...                 NaN   \n",
       "\n",
       "  requires_license license jurisdiction_names instant_bookable  \\\n",
       "0                f     NaN                NaN                f   \n",
       "\n",
       "  cancellation_policy require_guest_profile_picture  \\\n",
       "0            moderate                             f   \n",
       "\n",
       "  require_guest_phone_verification calculated_host_listings_count  \\\n",
       "0                                f                              1   \n",
       "\n",
       "   reviews_per_month  \n",
       "0                NaN  \n",
       "\n",
       "[1 rows x 95 columns]"
      ]
     },
     "execution_count": 18,
     "metadata": {},
     "output_type": "execute_result"
    }
   ],
   "source": [
    "b_list.head(1)"
   ]
  },
  {
   "cell_type": "code",
   "execution_count": 34,
   "id": "ce6dcbcc",
   "metadata": {},
   "outputs": [
    {
     "data": {
      "text/html": [
       "<div>\n",
       "<style scoped>\n",
       "    .dataframe tbody tr th:only-of-type {\n",
       "        vertical-align: middle;\n",
       "    }\n",
       "\n",
       "    .dataframe tbody tr th {\n",
       "        vertical-align: top;\n",
       "    }\n",
       "\n",
       "    .dataframe thead th {\n",
       "        text-align: right;\n",
       "    }\n",
       "</style>\n",
       "<table border=\"1\" class=\"dataframe\">\n",
       "  <thead>\n",
       "    <tr style=\"text-align: right;\">\n",
       "      <th></th>\n",
       "      <th>id</th>\n",
       "      <th>listing_url</th>\n",
       "      <th>scrape_id</th>\n",
       "      <th>last_scraped</th>\n",
       "      <th>name</th>\n",
       "      <th>summary</th>\n",
       "      <th>space</th>\n",
       "      <th>description</th>\n",
       "      <th>experiences_offered</th>\n",
       "      <th>neighborhood_overview</th>\n",
       "      <th>...</th>\n",
       "      <th>review_scores_value</th>\n",
       "      <th>requires_license</th>\n",
       "      <th>license</th>\n",
       "      <th>jurisdiction_names</th>\n",
       "      <th>instant_bookable</th>\n",
       "      <th>cancellation_policy</th>\n",
       "      <th>require_guest_profile_picture</th>\n",
       "      <th>require_guest_phone_verification</th>\n",
       "      <th>calculated_host_listings_count</th>\n",
       "      <th>reviews_per_month</th>\n",
       "    </tr>\n",
       "  </thead>\n",
       "  <tbody>\n",
       "    <tr>\n",
       "      <th>0</th>\n",
       "      <td>241032</td>\n",
       "      <td>https://www.airbnb.com/rooms/241032</td>\n",
       "      <td>20160104002432</td>\n",
       "      <td>2016-01-04</td>\n",
       "      <td>Stylish Queen Anne Apartment</td>\n",
       "      <td>NaN</td>\n",
       "      <td>Make your self at home in this charming one-be...</td>\n",
       "      <td>Make your self at home in this charming one-be...</td>\n",
       "      <td>none</td>\n",
       "      <td>NaN</td>\n",
       "      <td>...</td>\n",
       "      <td>10.0</td>\n",
       "      <td>f</td>\n",
       "      <td>NaN</td>\n",
       "      <td>WASHINGTON</td>\n",
       "      <td>f</td>\n",
       "      <td>moderate</td>\n",
       "      <td>f</td>\n",
       "      <td>f</td>\n",
       "      <td>2</td>\n",
       "      <td>4.07</td>\n",
       "    </tr>\n",
       "  </tbody>\n",
       "</table>\n",
       "<p>1 rows × 92 columns</p>\n",
       "</div>"
      ],
      "text/plain": [
       "       id                          listing_url       scrape_id last_scraped  \\\n",
       "0  241032  https://www.airbnb.com/rooms/241032  20160104002432   2016-01-04   \n",
       "\n",
       "                           name summary  \\\n",
       "0  Stylish Queen Anne Apartment     NaN   \n",
       "\n",
       "                                               space  \\\n",
       "0  Make your self at home in this charming one-be...   \n",
       "\n",
       "                                         description experiences_offered  \\\n",
       "0  Make your self at home in this charming one-be...                none   \n",
       "\n",
       "  neighborhood_overview  ... review_scores_value requires_license license  \\\n",
       "0                   NaN  ...                10.0                f     NaN   \n",
       "\n",
       "  jurisdiction_names instant_bookable cancellation_policy  \\\n",
       "0         WASHINGTON                f            moderate   \n",
       "\n",
       "   require_guest_profile_picture require_guest_phone_verification  \\\n",
       "0                              f                                f   \n",
       "\n",
       "  calculated_host_listings_count reviews_per_month  \n",
       "0                              2              4.07  \n",
       "\n",
       "[1 rows x 92 columns]"
      ]
     },
     "execution_count": 34,
     "metadata": {},
     "output_type": "execute_result"
    }
   ],
   "source": [
    "s_list.head(1)"
   ]
  },
  {
   "cell_type": "markdown",
   "id": "7c0057e2",
   "metadata": {},
   "source": [
    " "
   ]
  },
  {
   "cell_type": "markdown",
   "id": "cdc69a78",
   "metadata": {},
   "source": [
    " ### Check the sizes of cols and rows "
   ]
  },
  {
   "cell_type": "code",
   "execution_count": 94,
   "id": "5192d561",
   "metadata": {},
   "outputs": [
    {
     "name": "stdout",
     "output_type": "stream",
     "text": [
      "Boston listings size : (3585, 95)\n",
      "Seatle listings size : (3818, 92)\n",
      "Columns in Boston but not in Seatle:   {'house_rules', 'access', 'interaction'}\n"
     ]
    }
   ],
   "source": [
    "print(\"Boston listings size :\", b_list.shape)\n",
    "print(\"Seatle listings size :\", s_list.shape)\n",
    "set_difference = set(b_list.columns) - set(s_list.columns)\n",
    "print(\"Columns in Boston but not in Seatle:  \", set_difference)"
   ]
  },
  {
   "cell_type": "code",
   "execution_count": 93,
   "id": "f4434129",
   "metadata": {},
   "outputs": [
    {
     "data": {
      "text/html": [
       "<div>\n",
       "<style scoped>\n",
       "    .dataframe tbody tr th:only-of-type {\n",
       "        vertical-align: middle;\n",
       "    }\n",
       "\n",
       "    .dataframe tbody tr th {\n",
       "        vertical-align: top;\n",
       "    }\n",
       "\n",
       "    .dataframe thead th {\n",
       "        text-align: right;\n",
       "    }\n",
       "</style>\n",
       "<table border=\"1\" class=\"dataframe\">\n",
       "  <thead>\n",
       "    <tr style=\"text-align: right;\">\n",
       "      <th></th>\n",
       "      <th>house_rules</th>\n",
       "      <th>access</th>\n",
       "      <th>interaction</th>\n",
       "    </tr>\n",
       "  </thead>\n",
       "  <tbody>\n",
       "    <tr>\n",
       "      <th>0</th>\n",
       "      <td>Clean up and treat the home the way you'd like...</td>\n",
       "      <td>You will have access to 2 bedrooms, a living r...</td>\n",
       "      <td>NaN</td>\n",
       "    </tr>\n",
       "    <tr>\n",
       "      <th>1</th>\n",
       "      <td>Pet friendly but please confirm with me if the...</td>\n",
       "      <td>Apt has one more bedroom (which I use) and lar...</td>\n",
       "      <td>If I am at home, I am likely working in my hom...</td>\n",
       "    </tr>\n",
       "    <tr>\n",
       "      <th>2</th>\n",
       "      <td>I encourage you to use my kitchen, cooking and...</td>\n",
       "      <td>I am living in the apartment during your stay,...</td>\n",
       "      <td>ABOUT ME: I'm a laid-back, friendly, unmarried...</td>\n",
       "    </tr>\n",
       "  </tbody>\n",
       "</table>\n",
       "</div>"
      ],
      "text/plain": [
       "                                         house_rules  \\\n",
       "0  Clean up and treat the home the way you'd like...   \n",
       "1  Pet friendly but please confirm with me if the...   \n",
       "2  I encourage you to use my kitchen, cooking and...   \n",
       "\n",
       "                                              access  \\\n",
       "0  You will have access to 2 bedrooms, a living r...   \n",
       "1  Apt has one more bedroom (which I use) and lar...   \n",
       "2  I am living in the apartment during your stay,...   \n",
       "\n",
       "                                         interaction  \n",
       "0                                                NaN  \n",
       "1  If I am at home, I am likely working in my hom...  \n",
       "2  ABOUT ME: I'm a laid-back, friendly, unmarried...  "
      ]
     },
     "execution_count": 93,
     "metadata": {},
     "output_type": "execute_result"
    }
   ],
   "source": [
    "b_list[['house_rules', 'access', 'interaction']].head(3)"
   ]
  },
  {
   "cell_type": "markdown",
   "id": "50e57070",
   "metadata": {},
   "source": [
    " "
   ]
  },
  {
   "cell_type": "markdown",
   "id": "6a88ab79",
   "metadata": {},
   "source": [
    "### Check Nulls"
   ]
  },
  {
   "cell_type": "code",
   "execution_count": 115,
   "id": "bb27f7b4",
   "metadata": {},
   "outputs": [
    {
     "name": "stdout",
     "output_type": "stream",
     "text": [
      "Number of Non-null cols in Boston listings:  51\n",
      "Number of Non-null cols in Seatle listings:  47\n"
     ]
    }
   ],
   "source": [
    "print(\"Number of Non-null cols in Boston listings: \",  np.sum(b_list.isnull().sum()==0))\n",
    "print(\"Number of Non-null cols in Seatle listings: \",  np.sum(s_list.isnull().sum()==0))"
   ]
  },
  {
   "cell_type": "code",
   "execution_count": 123,
   "id": "90963301",
   "metadata": {},
   "outputs": [
    {
     "name": "stdout",
     "output_type": "stream",
     "text": [
      "summary                         0.039888\n",
      "space                           0.294840\n",
      "neighborhood_overview           0.394700\n",
      "notes                           0.550907\n",
      "transit                         0.359833\n",
      "access                          0.415342\n",
      "interaction                     0.433473\n",
      "house_rules                     0.332497\n",
      "thumbnail_url                   0.167085\n",
      "medium_url                      0.167085\n",
      "xl_picture_url                  0.167085\n",
      "host_location                   0.003068\n",
      "host_about                      0.365132\n",
      "host_response_time              0.131381\n",
      "host_response_rate              0.131381\n",
      "host_acceptance_rate            0.131381\n",
      "host_neighbourhood              0.094561\n",
      "neighbourhood                   0.151464\n",
      "neighbourhood_group_cleansed    1.000000\n",
      "city                            0.000558\n",
      "zipcode                         0.010600\n",
      "market                          0.003905\n",
      "property_type                   0.000837\n",
      "bathrooms                       0.003905\n",
      "bedrooms                        0.002789\n",
      "beds                            0.002510\n",
      "square_feet                     0.984379\n",
      "weekly_price                    0.751185\n",
      "monthly_price                   0.752301\n",
      "security_deposit                0.625662\n",
      "cleaning_fee                    0.308787\n",
      "has_availability                1.000000\n",
      "first_review                    0.210879\n",
      "last_review                     0.210879\n",
      "review_scores_rating            0.226778\n",
      "review_scores_accuracy          0.229568\n",
      "review_scores_cleanliness       0.228173\n",
      "review_scores_checkin           0.228731\n",
      "review_scores_communication     0.228173\n",
      "review_scores_location          0.229289\n",
      "review_scores_value             0.229010\n",
      "license                         1.000000\n",
      "jurisdiction_names              1.000000\n",
      "reviews_per_month               0.210879\n",
      "dtype: float64\n"
     ]
    }
   ],
   "source": [
    "# For Boston Listings The null proportion per column\n",
    "print(b_list.isnull().sum()[b_list.isnull().sum()>0]/b_list.shape[0])"
   ]
  },
  {
   "cell_type": "code",
   "execution_count": 120,
   "id": "7adef521",
   "metadata": {},
   "outputs": [
    {
     "data": {
      "text/plain": [
       "summary                          4.635935\n",
       "space                           14.903091\n",
       "neighborhood_overview           27.029859\n",
       "notes                           42.063908\n",
       "transit                         24.463070\n",
       "thumbnail_url                    8.381351\n",
       "medium_url                       8.381351\n",
       "xl_picture_url                   8.381351\n",
       "host_name                        0.052383\n",
       "host_since                       0.052383\n",
       "host_location                    0.209534\n",
       "host_about                      22.498690\n",
       "host_response_time              13.698271\n",
       "host_response_rate              13.698271\n",
       "host_acceptance_rate            20.246202\n",
       "host_is_superhost                0.052383\n",
       "host_thumbnail_url               0.052383\n",
       "host_picture_url                 0.052383\n",
       "host_neighbourhood               7.857517\n",
       "host_listings_count              0.052383\n",
       "host_total_listings_count        0.052383\n",
       "host_has_profile_pic             0.052383\n",
       "host_identity_verified           0.052383\n",
       "neighbourhood                   10.895757\n",
       "zipcode                          0.183342\n",
       "property_type                    0.026192\n",
       "bathrooms                        0.419068\n",
       "bedrooms                         0.157150\n",
       "beds                             0.026192\n",
       "square_feet                     97.459403\n",
       "weekly_price                    47.380828\n",
       "monthly_price                   60.267156\n",
       "security_deposit                51.126244\n",
       "cleaning_fee                    26.977475\n",
       "first_review                    16.422211\n",
       "last_review                     16.422211\n",
       "review_scores_rating            16.946045\n",
       "review_scores_accuracy          17.234154\n",
       "review_scores_cleanliness       17.103195\n",
       "review_scores_checkin           17.234154\n",
       "review_scores_communication     17.050812\n",
       "review_scores_location          17.155579\n",
       "review_scores_value             17.181771\n",
       "license                        100.000000\n",
       "reviews_per_month               16.422211\n",
       "dtype: float64"
      ]
     },
     "execution_count": 120,
     "metadata": {},
     "output_type": "execute_result"
    }
   ],
   "source": [
    "# For Seatle Listings The null proportion per column\n",
    "s_list.isnull().sum()[s_list.isnull().sum()>0]/s_list.shape[0]*100"
   ]
  },
  {
   "cell_type": "markdown",
   "id": "289cc93a",
   "metadata": {},
   "source": [
    "# Examine columns closely to prep them correctly!"
   ]
  },
  {
   "cell_type": "code",
   "execution_count": null,
   "id": "0ce8a36f",
   "metadata": {},
   "outputs": [],
   "source": []
  },
  {
   "cell_type": "code",
   "execution_count": null,
   "id": "a8a255e2",
   "metadata": {},
   "outputs": [],
   "source": []
  },
  {
   "cell_type": "code",
   "execution_count": null,
   "id": "b47d0ea3",
   "metadata": {},
   "outputs": [],
   "source": []
  },
  {
   "cell_type": "markdown",
   "id": "2f5135aa",
   "metadata": {},
   "source": [
    "/////////////////////////////////////////////////////////////////////////////////////////////////////////////////////////////////////////////////////////////////////////////////////////////////////////////////////////////////////////////////////\n",
    "### Comments:  \n",
    "[Boston & Seatle Listings]\n",
    "- Boston listings size : `3585`, `95`\n",
    "- Seatle listings size : `3818`, `92`\n",
    "- Boston Listings has 3 cols that arent in Seatle, `house_rules`, `access`, `interaction`, types: `Object/String`\n",
    "- Number of Non-null cols in Boston listings:  `51`, around half\n",
    "- Number of Non-null cols in Seatle listings:  `47`, around half\n"
   ]
  },
  {
   "cell_type": "code",
   "execution_count": null,
   "id": "902447cb",
   "metadata": {},
   "outputs": [],
   "source": []
  }
 ],
 "metadata": {
  "kernelspec": {
   "display_name": "Python 3",
   "language": "python",
   "name": "python3"
  },
  "language_info": {
   "codemirror_mode": {
    "name": "ipython",
    "version": 3
   },
   "file_extension": ".py",
   "mimetype": "text/x-python",
   "name": "python",
   "nbconvert_exporter": "python",
   "pygments_lexer": "ipython3",
   "version": "3.8.8"
  }
 },
 "nbformat": 4,
 "nbformat_minor": 5
}
