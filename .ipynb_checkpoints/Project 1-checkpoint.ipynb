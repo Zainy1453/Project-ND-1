{
 "cells": [
  {
   "cell_type": "markdown",
   "id": "b7a1f5b9",
   "metadata": {},
   "source": [
    "### A Look at the Data\n",
    "\n",
    "In order to get a better understanding of the data we will be looking at throughout this lesson, let's take a look at some of the characteristics of the dataset.\n",
    "\n",
    "First, let's read in the data and necessary libraries."
   ]
  },
  {
   "cell_type": "code",
   "execution_count": 248,
   "id": "8f26d86c",
   "metadata": {},
   "outputs": [],
   "source": [
    "import numpy as np\n",
    "import pandas as pd\n",
    "import matplotlib.pyplot as plt\n",
    "import seaborn as sns\n",
    "%matplotlib inline"
   ]
  },
  {
   "cell_type": "code",
   "execution_count": 249,
   "id": "cbce64f9",
   "metadata": {},
   "outputs": [],
   "source": [
    "b_cal = pd.read_csv('boston_calendar.csv')\n",
    "b_list = pd.read_csv('boston_listings.csv')\n",
    "b_rev = pd.read_csv('boston_reviews.csv')\n",
    "\n",
    "s_cal = pd.read_csv('seatle_calendar.csv')\n",
    "s_list = pd.read_csv('seatle_listings.csv')\n",
    "s_rev = pd.read_csv('seatle_reviews.csv')"
   ]
  },
  {
   "cell_type": "markdown",
   "id": "d6f0dd31",
   "metadata": {},
   "source": [
    " "
   ]
  },
  {
   "cell_type": "markdown",
   "id": "d05eeab2",
   "metadata": {},
   "source": [
    " "
   ]
  },
  {
   "cell_type": "markdown",
   "id": "381e4dbf",
   "metadata": {},
   "source": [
    "## Task 1: Busines Understanding"
   ]
  },
  {
   "cell_type": "markdown",
   "id": "271d211d",
   "metadata": {},
   "source": [
    "### Step 1: Basic Exploration with minimal cleaning\n",
    "*To familiarize with the Data and to gather insights to formulate questions*"
   ]
  },
  {
   "cell_type": "markdown",
   "id": "28402b3d",
   "metadata": {},
   "source": [
    "> **Boston & Seatle Calendar**"
   ]
  },
  {
   "cell_type": "markdown",
   "id": "5abeb5b1",
   "metadata": {},
   "source": [
    "#### Check the sizes of cols and rows "
   ]
  },
  {
   "cell_type": "code",
   "execution_count": 250,
   "id": "dea110b6",
   "metadata": {},
   "outputs": [
    {
     "name": "stdout",
     "output_type": "stream",
     "text": [
      "   listing_id        date available price\n",
      "0    12147973  2017-09-05         f   NaN\n",
      "1    12147973  2017-09-04         f   NaN\n",
      "\n",
      "\n",
      "   listing_id        date available   price\n",
      "0      241032  2016-01-04         t  $85.00\n",
      "1      241032  2016-01-05         t  $85.00\n",
      "\n",
      "\n",
      "b_cal  : (1308890, 4)\n",
      "s_cal  : (1393570, 4)\n"
     ]
    }
   ],
   "source": [
    "print(b_cal.head(2)),print('\\n'), print(s_cal.head(2))\n",
    "print('\\n')\n",
    "print(\"b_cal  :\", b_cal.shape)\n",
    "print(\"s_cal  :\", s_cal.shape)"
   ]
  },
  {
   "cell_type": "markdown",
   "id": "6464f867",
   "metadata": {},
   "source": [
    "  "
   ]
  },
  {
   "cell_type": "markdown",
   "id": "cbd63cd3",
   "metadata": {},
   "source": [
    "#### Check Nulls"
   ]
  },
  {
   "cell_type": "code",
   "execution_count": 251,
   "id": "506d0c7b",
   "metadata": {
    "scrolled": true
   },
   "outputs": [
    {
     "name": "stdout",
     "output_type": "stream",
     "text": [
      "Boston Cal: \n",
      "Cols with nulls:  price\n",
      "Null prop of price column:  0.5087157820748879\n",
      "Proportion of False(unit unavailable at this date ): 0.5087157820748879\n",
      "Nulls when units are available:  0\n",
      "\n",
      "\n",
      "Seatle Cal: \n",
      "Cols with nulls:  price\n",
      "Null prop of price column:  0.32938998399793334\n",
      "Proportion of False(unit unavailable at this date ): 0.32938998399793334\n",
      "Nulls when units are available:  0\n"
     ]
    }
   ],
   "source": [
    "print('Boston Cal: ')\n",
    "print(\"Cols with nulls: \", b_cal.isnull().sum()[b_cal.isnull().sum()>0].index[0])\n",
    "print(\"Null prop of price column: \", b_cal.price.isnull().sum()/b_cal.shape[0])\n",
    "print(\"Proportion of False(unit unavailable at this date ):\", b_cal.available[b_cal.available =='f' ].count()/b_cal.shape[0])\n",
    "#Since the proportions are the same, then, all nans are when the units aren't available, let's be more sure\n",
    "print(\"Nulls when units are available: \", b_cal[b_cal['available']== 't']['price'].isnull().sum())\n",
    "print('\\n')\n",
    "print('Seatle Cal: ')\n",
    "print(\"Cols with nulls: \", s_cal.isnull().sum()[s_cal.isnull().sum()>0].index[0])\n",
    "print(\"Null prop of price column: \", s_cal.price.isnull().sum()/s_cal.shape[0])\n",
    "print(\"Proportion of False(unit unavailable at this date ):\", s_cal.available[s_cal.available =='f' ].count()/s_cal.shape[0])\n",
    "#Since the proportions are the same, then, all nans are when the units aren't available, let's be more sure\n",
    "print(\"Nulls when units are available: \", s_cal[s_cal['available']== 't']['price'].isnull().sum())\n"
   ]
  },
  {
   "cell_type": "markdown",
   "id": "7fb67c54",
   "metadata": {},
   "source": [
    " "
   ]
  },
  {
   "cell_type": "markdown",
   "id": "24ca1fe2",
   "metadata": {},
   "source": [
    "#### Transfer Date column to datetime to ease manipulation, analysis and modeling. I create a dataframe with seperate date items from the Date column, to check the period in which the data was collected."
   ]
  },
  {
   "cell_type": "code",
   "execution_count": 252,
   "id": "121e4580",
   "metadata": {},
   "outputs": [],
   "source": [
    "def create_dateparts(df, date_col):\n",
    "    \n",
    "    df['date'] = pd.to_datetime(df.date)\n",
    "    print(df.date.dtype== 'datetime64[ns]')\n",
    "\n",
    "    b_date_df = pd.DataFrame()\n",
    "    b_date_df['year'] = df['date'].dt.year\n",
    "    b_date_df['month'] = df['date'].dt.month\n",
    "    b_date_df['day'] =df['date'].dt.day\n",
    "    b_date_df['dow'] =df['date'].dt.strftime(\"%A\")\n",
    "    df = df.join(b_date_df)\n",
    "    return df"
   ]
  },
  {
   "cell_type": "code",
   "execution_count": 253,
   "id": "88b18f24",
   "metadata": {},
   "outputs": [
    {
     "name": "stdout",
     "output_type": "stream",
     "text": [
      "True\n"
     ]
    },
    {
     "data": {
      "text/html": [
       "<div>\n",
       "<style scoped>\n",
       "    .dataframe tbody tr th:only-of-type {\n",
       "        vertical-align: middle;\n",
       "    }\n",
       "\n",
       "    .dataframe tbody tr th {\n",
       "        vertical-align: top;\n",
       "    }\n",
       "\n",
       "    .dataframe thead th {\n",
       "        text-align: right;\n",
       "    }\n",
       "</style>\n",
       "<table border=\"1\" class=\"dataframe\">\n",
       "  <thead>\n",
       "    <tr style=\"text-align: right;\">\n",
       "      <th></th>\n",
       "      <th>listing_id</th>\n",
       "      <th>date</th>\n",
       "      <th>available</th>\n",
       "      <th>price</th>\n",
       "      <th>year</th>\n",
       "      <th>month</th>\n",
       "      <th>day</th>\n",
       "      <th>dow</th>\n",
       "    </tr>\n",
       "  </thead>\n",
       "  <tbody>\n",
       "    <tr>\n",
       "      <th>0</th>\n",
       "      <td>12147973</td>\n",
       "      <td>2017-09-05</td>\n",
       "      <td>f</td>\n",
       "      <td>NaN</td>\n",
       "      <td>2017</td>\n",
       "      <td>9</td>\n",
       "      <td>5</td>\n",
       "      <td>Tuesday</td>\n",
       "    </tr>\n",
       "    <tr>\n",
       "      <th>1</th>\n",
       "      <td>12147973</td>\n",
       "      <td>2017-09-04</td>\n",
       "      <td>f</td>\n",
       "      <td>NaN</td>\n",
       "      <td>2017</td>\n",
       "      <td>9</td>\n",
       "      <td>4</td>\n",
       "      <td>Monday</td>\n",
       "    </tr>\n",
       "    <tr>\n",
       "      <th>2</th>\n",
       "      <td>12147973</td>\n",
       "      <td>2017-09-03</td>\n",
       "      <td>f</td>\n",
       "      <td>NaN</td>\n",
       "      <td>2017</td>\n",
       "      <td>9</td>\n",
       "      <td>3</td>\n",
       "      <td>Sunday</td>\n",
       "    </tr>\n",
       "  </tbody>\n",
       "</table>\n",
       "</div>"
      ],
      "text/plain": [
       "   listing_id       date available price  year  month  day      dow\n",
       "0    12147973 2017-09-05         f   NaN  2017      9    5  Tuesday\n",
       "1    12147973 2017-09-04         f   NaN  2017      9    4   Monday\n",
       "2    12147973 2017-09-03         f   NaN  2017      9    3   Sunday"
      ]
     },
     "execution_count": 253,
     "metadata": {},
     "output_type": "execute_result"
    }
   ],
   "source": [
    "b_cal_1 = create_dateparts(b_cal, 'date')\n",
    "b_cal_1.head(3)"
   ]
  },
  {
   "cell_type": "code",
   "execution_count": 254,
   "id": "927be21b",
   "metadata": {},
   "outputs": [
    {
     "name": "stdout",
     "output_type": "stream",
     "text": [
      "True\n"
     ]
    },
    {
     "data": {
      "text/html": [
       "<div>\n",
       "<style scoped>\n",
       "    .dataframe tbody tr th:only-of-type {\n",
       "        vertical-align: middle;\n",
       "    }\n",
       "\n",
       "    .dataframe tbody tr th {\n",
       "        vertical-align: top;\n",
       "    }\n",
       "\n",
       "    .dataframe thead th {\n",
       "        text-align: right;\n",
       "    }\n",
       "</style>\n",
       "<table border=\"1\" class=\"dataframe\">\n",
       "  <thead>\n",
       "    <tr style=\"text-align: right;\">\n",
       "      <th></th>\n",
       "      <th>listing_id</th>\n",
       "      <th>date</th>\n",
       "      <th>available</th>\n",
       "      <th>price</th>\n",
       "      <th>year</th>\n",
       "      <th>month</th>\n",
       "      <th>day</th>\n",
       "      <th>dow</th>\n",
       "    </tr>\n",
       "  </thead>\n",
       "  <tbody>\n",
       "    <tr>\n",
       "      <th>0</th>\n",
       "      <td>241032</td>\n",
       "      <td>2016-01-04</td>\n",
       "      <td>t</td>\n",
       "      <td>$85.00</td>\n",
       "      <td>2016</td>\n",
       "      <td>1</td>\n",
       "      <td>4</td>\n",
       "      <td>Monday</td>\n",
       "    </tr>\n",
       "    <tr>\n",
       "      <th>1</th>\n",
       "      <td>241032</td>\n",
       "      <td>2016-01-05</td>\n",
       "      <td>t</td>\n",
       "      <td>$85.00</td>\n",
       "      <td>2016</td>\n",
       "      <td>1</td>\n",
       "      <td>5</td>\n",
       "      <td>Tuesday</td>\n",
       "    </tr>\n",
       "    <tr>\n",
       "      <th>2</th>\n",
       "      <td>241032</td>\n",
       "      <td>2016-01-06</td>\n",
       "      <td>f</td>\n",
       "      <td>NaN</td>\n",
       "      <td>2016</td>\n",
       "      <td>1</td>\n",
       "      <td>6</td>\n",
       "      <td>Wednesday</td>\n",
       "    </tr>\n",
       "  </tbody>\n",
       "</table>\n",
       "</div>"
      ],
      "text/plain": [
       "   listing_id       date available   price  year  month  day        dow\n",
       "0      241032 2016-01-04         t  $85.00  2016      1    4     Monday\n",
       "1      241032 2016-01-05         t  $85.00  2016      1    5    Tuesday\n",
       "2      241032 2016-01-06         f     NaN  2016      1    6  Wednesday"
      ]
     },
     "execution_count": 254,
     "metadata": {},
     "output_type": "execute_result"
    }
   ],
   "source": [
    "s_cal_1 = create_dateparts(s_cal, 'date')\n",
    "s_cal_1.head(3)"
   ]
  },
  {
   "cell_type": "code",
   "execution_count": 255,
   "id": "dfef9e4f",
   "metadata": {},
   "outputs": [],
   "source": [
    "def get_period_df(df):\n",
    "    period =pd.DataFrame(df.groupby(['year','month'], sort = True)['day'].value_counts())\n",
    "    period = period.rename(columns={'day':'count'}, level=0)\n",
    "    period = period.reset_index().sort_values(by=['year', 'month', 'day']).reset_index(drop = True)\n",
    "    return period"
   ]
  },
  {
   "cell_type": "code",
   "execution_count": 256,
   "id": "380fc6ff",
   "metadata": {},
   "outputs": [
    {
     "data": {
      "text/html": [
       "<div>\n",
       "<style scoped>\n",
       "    .dataframe tbody tr th:only-of-type {\n",
       "        vertical-align: middle;\n",
       "    }\n",
       "\n",
       "    .dataframe tbody tr th {\n",
       "        vertical-align: top;\n",
       "    }\n",
       "\n",
       "    .dataframe thead th {\n",
       "        text-align: right;\n",
       "    }\n",
       "</style>\n",
       "<table border=\"1\" class=\"dataframe\">\n",
       "  <thead>\n",
       "    <tr style=\"text-align: right;\">\n",
       "      <th></th>\n",
       "      <th>year</th>\n",
       "      <th>month</th>\n",
       "      <th>day</th>\n",
       "      <th>count</th>\n",
       "    </tr>\n",
       "  </thead>\n",
       "  <tbody>\n",
       "    <tr>\n",
       "      <th>0</th>\n",
       "      <td>2016</td>\n",
       "      <td>9</td>\n",
       "      <td>6</td>\n",
       "      <td>3586</td>\n",
       "    </tr>\n",
       "    <tr>\n",
       "      <th>1</th>\n",
       "      <td>2016</td>\n",
       "      <td>9</td>\n",
       "      <td>7</td>\n",
       "      <td>3586</td>\n",
       "    </tr>\n",
       "    <tr>\n",
       "      <th>2</th>\n",
       "      <td>2016</td>\n",
       "      <td>9</td>\n",
       "      <td>8</td>\n",
       "      <td>3586</td>\n",
       "    </tr>\n",
       "    <tr>\n",
       "      <th>3</th>\n",
       "      <td>2016</td>\n",
       "      <td>9</td>\n",
       "      <td>9</td>\n",
       "      <td>3586</td>\n",
       "    </tr>\n",
       "    <tr>\n",
       "      <th>4</th>\n",
       "      <td>2016</td>\n",
       "      <td>9</td>\n",
       "      <td>10</td>\n",
       "      <td>3586</td>\n",
       "    </tr>\n",
       "    <tr>\n",
       "      <th>...</th>\n",
       "      <td>...</td>\n",
       "      <td>...</td>\n",
       "      <td>...</td>\n",
       "      <td>...</td>\n",
       "    </tr>\n",
       "    <tr>\n",
       "      <th>360</th>\n",
       "      <td>2017</td>\n",
       "      <td>9</td>\n",
       "      <td>1</td>\n",
       "      <td>3586</td>\n",
       "    </tr>\n",
       "    <tr>\n",
       "      <th>361</th>\n",
       "      <td>2017</td>\n",
       "      <td>9</td>\n",
       "      <td>2</td>\n",
       "      <td>3586</td>\n",
       "    </tr>\n",
       "    <tr>\n",
       "      <th>362</th>\n",
       "      <td>2017</td>\n",
       "      <td>9</td>\n",
       "      <td>3</td>\n",
       "      <td>3586</td>\n",
       "    </tr>\n",
       "    <tr>\n",
       "      <th>363</th>\n",
       "      <td>2017</td>\n",
       "      <td>9</td>\n",
       "      <td>4</td>\n",
       "      <td>3586</td>\n",
       "    </tr>\n",
       "    <tr>\n",
       "      <th>364</th>\n",
       "      <td>2017</td>\n",
       "      <td>9</td>\n",
       "      <td>5</td>\n",
       "      <td>3586</td>\n",
       "    </tr>\n",
       "  </tbody>\n",
       "</table>\n",
       "<p>365 rows × 4 columns</p>\n",
       "</div>"
      ],
      "text/plain": [
       "     year  month  day  count\n",
       "0    2016      9    6   3586\n",
       "1    2016      9    7   3586\n",
       "2    2016      9    8   3586\n",
       "3    2016      9    9   3586\n",
       "4    2016      9   10   3586\n",
       "..    ...    ...  ...    ...\n",
       "360  2017      9    1   3586\n",
       "361  2017      9    2   3586\n",
       "362  2017      9    3   3586\n",
       "363  2017      9    4   3586\n",
       "364  2017      9    5   3586\n",
       "\n",
       "[365 rows x 4 columns]"
      ]
     },
     "execution_count": 256,
     "metadata": {},
     "output_type": "execute_result"
    }
   ],
   "source": [
    "b_period =get_period_df(b_cal_1)\n",
    "b_period"
   ]
  },
  {
   "cell_type": "code",
   "execution_count": 257,
   "id": "23a90eb3",
   "metadata": {},
   "outputs": [
    {
     "data": {
      "text/html": [
       "<div>\n",
       "<style scoped>\n",
       "    .dataframe tbody tr th:only-of-type {\n",
       "        vertical-align: middle;\n",
       "    }\n",
       "\n",
       "    .dataframe tbody tr th {\n",
       "        vertical-align: top;\n",
       "    }\n",
       "\n",
       "    .dataframe thead th {\n",
       "        text-align: right;\n",
       "    }\n",
       "</style>\n",
       "<table border=\"1\" class=\"dataframe\">\n",
       "  <thead>\n",
       "    <tr style=\"text-align: right;\">\n",
       "      <th></th>\n",
       "      <th>year</th>\n",
       "      <th>month</th>\n",
       "      <th>day</th>\n",
       "      <th>count</th>\n",
       "    </tr>\n",
       "  </thead>\n",
       "  <tbody>\n",
       "    <tr>\n",
       "      <th>0</th>\n",
       "      <td>2016</td>\n",
       "      <td>1</td>\n",
       "      <td>4</td>\n",
       "      <td>3818</td>\n",
       "    </tr>\n",
       "    <tr>\n",
       "      <th>1</th>\n",
       "      <td>2016</td>\n",
       "      <td>1</td>\n",
       "      <td>5</td>\n",
       "      <td>3818</td>\n",
       "    </tr>\n",
       "    <tr>\n",
       "      <th>2</th>\n",
       "      <td>2016</td>\n",
       "      <td>1</td>\n",
       "      <td>6</td>\n",
       "      <td>3818</td>\n",
       "    </tr>\n",
       "    <tr>\n",
       "      <th>3</th>\n",
       "      <td>2016</td>\n",
       "      <td>1</td>\n",
       "      <td>7</td>\n",
       "      <td>3818</td>\n",
       "    </tr>\n",
       "    <tr>\n",
       "      <th>4</th>\n",
       "      <td>2016</td>\n",
       "      <td>1</td>\n",
       "      <td>8</td>\n",
       "      <td>3818</td>\n",
       "    </tr>\n",
       "    <tr>\n",
       "      <th>...</th>\n",
       "      <td>...</td>\n",
       "      <td>...</td>\n",
       "      <td>...</td>\n",
       "      <td>...</td>\n",
       "    </tr>\n",
       "    <tr>\n",
       "      <th>360</th>\n",
       "      <td>2016</td>\n",
       "      <td>12</td>\n",
       "      <td>29</td>\n",
       "      <td>3818</td>\n",
       "    </tr>\n",
       "    <tr>\n",
       "      <th>361</th>\n",
       "      <td>2016</td>\n",
       "      <td>12</td>\n",
       "      <td>30</td>\n",
       "      <td>3818</td>\n",
       "    </tr>\n",
       "    <tr>\n",
       "      <th>362</th>\n",
       "      <td>2016</td>\n",
       "      <td>12</td>\n",
       "      <td>31</td>\n",
       "      <td>3818</td>\n",
       "    </tr>\n",
       "    <tr>\n",
       "      <th>363</th>\n",
       "      <td>2017</td>\n",
       "      <td>1</td>\n",
       "      <td>1</td>\n",
       "      <td>3818</td>\n",
       "    </tr>\n",
       "    <tr>\n",
       "      <th>364</th>\n",
       "      <td>2017</td>\n",
       "      <td>1</td>\n",
       "      <td>2</td>\n",
       "      <td>3818</td>\n",
       "    </tr>\n",
       "  </tbody>\n",
       "</table>\n",
       "<p>365 rows × 4 columns</p>\n",
       "</div>"
      ],
      "text/plain": [
       "     year  month  day  count\n",
       "0    2016      1    4   3818\n",
       "1    2016      1    5   3818\n",
       "2    2016      1    6   3818\n",
       "3    2016      1    7   3818\n",
       "4    2016      1    8   3818\n",
       "..    ...    ...  ...    ...\n",
       "360  2016     12   29   3818\n",
       "361  2016     12   30   3818\n",
       "362  2016     12   31   3818\n",
       "363  2017      1    1   3818\n",
       "364  2017      1    2   3818\n",
       "\n",
       "[365 rows x 4 columns]"
      ]
     },
     "execution_count": 257,
     "metadata": {},
     "output_type": "execute_result"
    }
   ],
   "source": [
    "s_period =get_period_df(s_cal_1)\n",
    "s_period"
   ]
  },
  {
   "cell_type": "code",
   "execution_count": 258,
   "id": "6aa01eb5",
   "metadata": {},
   "outputs": [
    {
     "name": "stdout",
     "output_type": "stream",
     "text": [
      "[3586]\n",
      "[3818]\n",
      "Number of unique Listing IDs in Boston Calendar:  3585\n",
      "Number of unique Listing IDs in Seatle Calendar:  3818\n"
     ]
    }
   ],
   "source": [
    "print(b_period['count'].unique())\n",
    "print(s_period['count'].unique())\n",
    "print(\"Number of unique Listing IDs in Boston Calendar: \", len(b_cal_1.listing_id.unique()))\n",
    "print(\"Number of unique Listing IDs in Seatle Calendar: \", len(s_cal_1.listing_id.unique()))"
   ]
  },
  {
   "cell_type": "markdown",
   "id": "0eb64c2f",
   "metadata": {},
   "source": [
    "#### Counts are the equivalent to the numbers of unique ids because all the ids are spanning the same time period by day.  Let's check any anomalies"
   ]
  },
  {
   "cell_type": "code",
   "execution_count": 259,
   "id": "032984ec",
   "metadata": {},
   "outputs": [],
   "source": [
    "def check_anomalies(df, col):\n",
    "    list_ids_not_year_long = []\n",
    "\n",
    "    for i in sorted(list(df[col].unique())):\n",
    "        if df[df[col]== i].shape[0] != 365:\n",
    "            list_ids_not_year_long.append(i)\n",
    "    print(\"Entry Ids that don't span 1 year: \" , list_ids_not_year_long)"
   ]
  },
  {
   "cell_type": "code",
   "execution_count": 260,
   "id": "14253392",
   "metadata": {},
   "outputs": [
    {
     "name": "stdout",
     "output_type": "stream",
     "text": [
      "Entry Ids that don't span 1 year:  [12898806]\n"
     ]
    }
   ],
   "source": [
    "#Boston\n",
    "check_anomalies(b_cal_1, 'listing_id')"
   ]
  },
  {
   "cell_type": "code",
   "execution_count": 261,
   "id": "ce8d74c8",
   "metadata": {},
   "outputs": [
    {
     "name": "stdout",
     "output_type": "stream",
     "text": [
      "Entry Ids that don't span 1 year:  []\n"
     ]
    }
   ],
   "source": [
    "#Seatle\n",
    "check_anomalies(s_cal_1, 'listing_id')"
   ]
  },
  {
   "cell_type": "code",
   "execution_count": 262,
   "id": "f0765ede",
   "metadata": {},
   "outputs": [
    {
     "name": "stdout",
     "output_type": "stream",
     "text": [
      "Span of the entries for this listing, should be 365:  730\n",
      "Should be 1:  2\n",
      "Size of anomaly listing, Should be = 365:  365\n",
      "After removing duplicates, Span of the entries for this listing, should be 365:  365\n",
      "After removing duplicates, shape is:  (1308525, 8)\n"
     ]
    }
   ],
   "source": [
    "## check this entry in Boston Calendar\n",
    "print(\"Span of the entries for this listing, should be 365: \", b_cal_1[b_cal_1['listing_id']== 12898806].shape[0])\n",
    "## 2 years, seems like a duplicate as 730 = 365 * 2\n",
    "one_or_two = pd.DataFrame(b_cal_1[b_cal_1['listing_id']==12898806].groupby(['year', 'month', 'day'])['day'].count()).day.unique()[0]\n",
    "print(\"Should be 1: \", one_or_two)\n",
    "## It indeed is :)\n",
    "b_cal_1 = b_cal_1.drop_duplicates()\n",
    "print(\"Size of anomaly listing, Should be = 365: \", b_cal_1.drop_duplicates()[b_cal_1.drop_duplicates().listing_id==12898806]['listing_id'].size)\n",
    "print(\"After removing duplicates, Span of the entries for this listing, should be 365: \", b_cal_1[b_cal_1['listing_id']== 12898806].shape[0])\n",
    "print(\"After removing duplicates, shape is: \", b_cal_1.shape)"
   ]
  },
  {
   "cell_type": "markdown",
   "id": "20c28022",
   "metadata": {},
   "source": [
    "/////////////////////////////////////////////////////////////////////////////////////////////////////////////////////////////////////////////////////////////////////////////////////////////////////////////////////////////////////////////////////\n",
    "### Comments:  \n",
    "[Boston & Seatle Calendar]\n",
    "- The datasets have information about listing dates, availability and price tracked over a year for ever listing id\n",
    "- There are no data entry errors, all nulls are due to the structuring of the Data (the listings that aren't available has no price)\n",
    "<br><br>\n",
    "- I added 4 cols that contain dateparts that will aid further analysis and modeling\n",
    "- The Boston calendar Dataset ranges through `365`days from `6th of September'16` to `5th of September'17`, No nulls with `1308525` rows and  `8` cols\n",
    "- The Seatle calendar Dataset ranges through `365`days from `4th of January'16` to `2nd of January'17`, No nulls with `1393570` rows and  `8` cols\n",
    "<br><br>\n",
    "- Number of unique Listing IDs in Boston Calendar:  `3585`\n",
    "- Number of unique Listing IDs in Seatle Calendar:  `3818`\n",
    "- May need to order the table later "
   ]
  },
  {
   "cell_type": "markdown",
   "id": "a86040cf",
   "metadata": {},
   "source": [
    "////////////////////////////////////////////////////////////////////////////////////////////////////////////////////////////////////////////////////////////////////////////////////////////////////////////////////////////////////////////////////"
   ]
  },
  {
   "cell_type": "markdown",
   "id": "e8b224bb",
   "metadata": {},
   "source": [
    " _______________________________________________________________________________________________________________________"
   ]
  },
  {
   "cell_type": "markdown",
   "id": "aebe6e13",
   "metadata": {},
   "source": [
    "## Step 1: Continue - "
   ]
  },
  {
   "cell_type": "markdown",
   "id": "940cb2e1",
   "metadata": {},
   "source": [
    "> **Boston & Seatle Listings**"
   ]
  },
  {
   "cell_type": "code",
   "execution_count": 18,
   "id": "5d1d6a03",
   "metadata": {},
   "outputs": [
    {
     "data": {
      "text/html": [
       "<div>\n",
       "<style scoped>\n",
       "    .dataframe tbody tr th:only-of-type {\n",
       "        vertical-align: middle;\n",
       "    }\n",
       "\n",
       "    .dataframe tbody tr th {\n",
       "        vertical-align: top;\n",
       "    }\n",
       "\n",
       "    .dataframe thead th {\n",
       "        text-align: right;\n",
       "    }\n",
       "</style>\n",
       "<table border=\"1\" class=\"dataframe\">\n",
       "  <thead>\n",
       "    <tr style=\"text-align: right;\">\n",
       "      <th></th>\n",
       "      <th>id</th>\n",
       "      <th>listing_url</th>\n",
       "      <th>scrape_id</th>\n",
       "      <th>last_scraped</th>\n",
       "      <th>name</th>\n",
       "      <th>summary</th>\n",
       "      <th>space</th>\n",
       "      <th>description</th>\n",
       "      <th>experiences_offered</th>\n",
       "      <th>neighborhood_overview</th>\n",
       "      <th>...</th>\n",
       "      <th>review_scores_value</th>\n",
       "      <th>requires_license</th>\n",
       "      <th>license</th>\n",
       "      <th>jurisdiction_names</th>\n",
       "      <th>instant_bookable</th>\n",
       "      <th>cancellation_policy</th>\n",
       "      <th>require_guest_profile_picture</th>\n",
       "      <th>require_guest_phone_verification</th>\n",
       "      <th>calculated_host_listings_count</th>\n",
       "      <th>reviews_per_month</th>\n",
       "    </tr>\n",
       "  </thead>\n",
       "  <tbody>\n",
       "    <tr>\n",
       "      <th>0</th>\n",
       "      <td>12147973</td>\n",
       "      <td>https://www.airbnb.com/rooms/12147973</td>\n",
       "      <td>20160906204935</td>\n",
       "      <td>2016-09-07</td>\n",
       "      <td>Sunny Bungalow in the City</td>\n",
       "      <td>Cozy, sunny, family home.  Master bedroom high...</td>\n",
       "      <td>The house has an open and cozy feel at the sam...</td>\n",
       "      <td>Cozy, sunny, family home.  Master bedroom high...</td>\n",
       "      <td>none</td>\n",
       "      <td>Roslindale is quiet, convenient and friendly. ...</td>\n",
       "      <td>...</td>\n",
       "      <td>NaN</td>\n",
       "      <td>f</td>\n",
       "      <td>NaN</td>\n",
       "      <td>NaN</td>\n",
       "      <td>f</td>\n",
       "      <td>moderate</td>\n",
       "      <td>f</td>\n",
       "      <td>f</td>\n",
       "      <td>1</td>\n",
       "      <td>NaN</td>\n",
       "    </tr>\n",
       "  </tbody>\n",
       "</table>\n",
       "<p>1 rows × 95 columns</p>\n",
       "</div>"
      ],
      "text/plain": [
       "         id                            listing_url       scrape_id  \\\n",
       "0  12147973  https://www.airbnb.com/rooms/12147973  20160906204935   \n",
       "\n",
       "  last_scraped                        name  \\\n",
       "0   2016-09-07  Sunny Bungalow in the City   \n",
       "\n",
       "                                             summary  \\\n",
       "0  Cozy, sunny, family home.  Master bedroom high...   \n",
       "\n",
       "                                               space  \\\n",
       "0  The house has an open and cozy feel at the sam...   \n",
       "\n",
       "                                         description experiences_offered  \\\n",
       "0  Cozy, sunny, family home.  Master bedroom high...                none   \n",
       "\n",
       "                               neighborhood_overview  ... review_scores_value  \\\n",
       "0  Roslindale is quiet, convenient and friendly. ...  ...                 NaN   \n",
       "\n",
       "  requires_license license jurisdiction_names instant_bookable  \\\n",
       "0                f     NaN                NaN                f   \n",
       "\n",
       "  cancellation_policy require_guest_profile_picture  \\\n",
       "0            moderate                             f   \n",
       "\n",
       "  require_guest_phone_verification calculated_host_listings_count  \\\n",
       "0                                f                              1   \n",
       "\n",
       "   reviews_per_month  \n",
       "0                NaN  \n",
       "\n",
       "[1 rows x 95 columns]"
      ]
     },
     "execution_count": 18,
     "metadata": {},
     "output_type": "execute_result"
    }
   ],
   "source": [
    "b_list.head(10)"
   ]
  },
  {
   "cell_type": "code",
   "execution_count": 34,
   "id": "ce6dcbcc",
   "metadata": {},
   "outputs": [
    {
     "data": {
      "text/html": [
       "<div>\n",
       "<style scoped>\n",
       "    .dataframe tbody tr th:only-of-type {\n",
       "        vertical-align: middle;\n",
       "    }\n",
       "\n",
       "    .dataframe tbody tr th {\n",
       "        vertical-align: top;\n",
       "    }\n",
       "\n",
       "    .dataframe thead th {\n",
       "        text-align: right;\n",
       "    }\n",
       "</style>\n",
       "<table border=\"1\" class=\"dataframe\">\n",
       "  <thead>\n",
       "    <tr style=\"text-align: right;\">\n",
       "      <th></th>\n",
       "      <th>id</th>\n",
       "      <th>listing_url</th>\n",
       "      <th>scrape_id</th>\n",
       "      <th>last_scraped</th>\n",
       "      <th>name</th>\n",
       "      <th>summary</th>\n",
       "      <th>space</th>\n",
       "      <th>description</th>\n",
       "      <th>experiences_offered</th>\n",
       "      <th>neighborhood_overview</th>\n",
       "      <th>...</th>\n",
       "      <th>review_scores_value</th>\n",
       "      <th>requires_license</th>\n",
       "      <th>license</th>\n",
       "      <th>jurisdiction_names</th>\n",
       "      <th>instant_bookable</th>\n",
       "      <th>cancellation_policy</th>\n",
       "      <th>require_guest_profile_picture</th>\n",
       "      <th>require_guest_phone_verification</th>\n",
       "      <th>calculated_host_listings_count</th>\n",
       "      <th>reviews_per_month</th>\n",
       "    </tr>\n",
       "  </thead>\n",
       "  <tbody>\n",
       "    <tr>\n",
       "      <th>0</th>\n",
       "      <td>241032</td>\n",
       "      <td>https://www.airbnb.com/rooms/241032</td>\n",
       "      <td>20160104002432</td>\n",
       "      <td>2016-01-04</td>\n",
       "      <td>Stylish Queen Anne Apartment</td>\n",
       "      <td>NaN</td>\n",
       "      <td>Make your self at home in this charming one-be...</td>\n",
       "      <td>Make your self at home in this charming one-be...</td>\n",
       "      <td>none</td>\n",
       "      <td>NaN</td>\n",
       "      <td>...</td>\n",
       "      <td>10.0</td>\n",
       "      <td>f</td>\n",
       "      <td>NaN</td>\n",
       "      <td>WASHINGTON</td>\n",
       "      <td>f</td>\n",
       "      <td>moderate</td>\n",
       "      <td>f</td>\n",
       "      <td>f</td>\n",
       "      <td>2</td>\n",
       "      <td>4.07</td>\n",
       "    </tr>\n",
       "  </tbody>\n",
       "</table>\n",
       "<p>1 rows × 92 columns</p>\n",
       "</div>"
      ],
      "text/plain": [
       "       id                          listing_url       scrape_id last_scraped  \\\n",
       "0  241032  https://www.airbnb.com/rooms/241032  20160104002432   2016-01-04   \n",
       "\n",
       "                           name summary  \\\n",
       "0  Stylish Queen Anne Apartment     NaN   \n",
       "\n",
       "                                               space  \\\n",
       "0  Make your self at home in this charming one-be...   \n",
       "\n",
       "                                         description experiences_offered  \\\n",
       "0  Make your self at home in this charming one-be...                none   \n",
       "\n",
       "  neighborhood_overview  ... review_scores_value requires_license license  \\\n",
       "0                   NaN  ...                10.0                f     NaN   \n",
       "\n",
       "  jurisdiction_names instant_bookable cancellation_policy  \\\n",
       "0         WASHINGTON                f            moderate   \n",
       "\n",
       "   require_guest_profile_picture require_guest_phone_verification  \\\n",
       "0                              f                                f   \n",
       "\n",
       "  calculated_host_listings_count reviews_per_month  \n",
       "0                              2              4.07  \n",
       "\n",
       "[1 rows x 92 columns]"
      ]
     },
     "execution_count": 34,
     "metadata": {},
     "output_type": "execute_result"
    }
   ],
   "source": [
    "s_list.head(10)"
   ]
  },
  {
   "cell_type": "markdown",
   "id": "7c0057e2",
   "metadata": {},
   "source": [
    " "
   ]
  },
  {
   "cell_type": "markdown",
   "id": "cdc69a78",
   "metadata": {},
   "source": [
    " ### Check the sizes of cols & rows & check Nulls"
   ]
  },
  {
   "cell_type": "code",
   "execution_count": 556,
   "id": "5192d561",
   "metadata": {},
   "outputs": [
    {
     "name": "stdout",
     "output_type": "stream",
     "text": [
      "Boston listings size : (3585, 95)\n",
      "Seatle listings size : (3818, 92)\n",
      "Columns in Boston but not in Seatle:   {'interaction', 'house_rules', 'access'}\n",
      "Number of Non-null cols in Boston listings:  51  From  95\n",
      "Number of Non-null cols in Seatle listings:  47  From  92\n"
     ]
    }
   ],
   "source": [
    "print(\"Boston listings size :\", b_list.shape)\n",
    "print(\"Seatle listings size :\", s_list.shape)\n",
    "set_difference = set(b_list.columns) - set(s_list.columns)\n",
    "print(\"Columns in Boston but not in Seatle:  \", set_difference)\n",
    "print(\"Number of Non-null cols in Boston listings: \",  np.sum(b_list.isnull().sum()==0), \" From \", b_list.shape[1])\n",
    "print(\"Number of Non-null cols in Seatle listings: \",  np.sum(s_list.isnull().sum()==0), \" From \", s_list.shape[1])"
   ]
  },
  {
   "cell_type": "code",
   "execution_count": 93,
   "id": "f4434129",
   "metadata": {},
   "outputs": [
    {
     "data": {
      "text/html": [
       "<div>\n",
       "<style scoped>\n",
       "    .dataframe tbody tr th:only-of-type {\n",
       "        vertical-align: middle;\n",
       "    }\n",
       "\n",
       "    .dataframe tbody tr th {\n",
       "        vertical-align: top;\n",
       "    }\n",
       "\n",
       "    .dataframe thead th {\n",
       "        text-align: right;\n",
       "    }\n",
       "</style>\n",
       "<table border=\"1\" class=\"dataframe\">\n",
       "  <thead>\n",
       "    <tr style=\"text-align: right;\">\n",
       "      <th></th>\n",
       "      <th>house_rules</th>\n",
       "      <th>access</th>\n",
       "      <th>interaction</th>\n",
       "    </tr>\n",
       "  </thead>\n",
       "  <tbody>\n",
       "    <tr>\n",
       "      <th>0</th>\n",
       "      <td>Clean up and treat the home the way you'd like...</td>\n",
       "      <td>You will have access to 2 bedrooms, a living r...</td>\n",
       "      <td>NaN</td>\n",
       "    </tr>\n",
       "    <tr>\n",
       "      <th>1</th>\n",
       "      <td>Pet friendly but please confirm with me if the...</td>\n",
       "      <td>Apt has one more bedroom (which I use) and lar...</td>\n",
       "      <td>If I am at home, I am likely working in my hom...</td>\n",
       "    </tr>\n",
       "    <tr>\n",
       "      <th>2</th>\n",
       "      <td>I encourage you to use my kitchen, cooking and...</td>\n",
       "      <td>I am living in the apartment during your stay,...</td>\n",
       "      <td>ABOUT ME: I'm a laid-back, friendly, unmarried...</td>\n",
       "    </tr>\n",
       "  </tbody>\n",
       "</table>\n",
       "</div>"
      ],
      "text/plain": [
       "                                         house_rules  \\\n",
       "0  Clean up and treat the home the way you'd like...   \n",
       "1  Pet friendly but please confirm with me if the...   \n",
       "2  I encourage you to use my kitchen, cooking and...   \n",
       "\n",
       "                                              access  \\\n",
       "0  You will have access to 2 bedrooms, a living r...   \n",
       "1  Apt has one more bedroom (which I use) and lar...   \n",
       "2  I am living in the apartment during your stay,...   \n",
       "\n",
       "                                         interaction  \n",
       "0                                                NaN  \n",
       "1  If I am at home, I am likely working in my hom...  \n",
       "2  ABOUT ME: I'm a laid-back, friendly, unmarried...  "
      ]
     },
     "execution_count": 93,
     "metadata": {},
     "output_type": "execute_result"
    }
   ],
   "source": [
    "b_list[['house_rules', 'access', 'interaction']].head(3)"
   ]
  },
  {
   "cell_type": "markdown",
   "id": "50e57070",
   "metadata": {},
   "source": [
    " "
   ]
  },
  {
   "cell_type": "code",
   "execution_count": 669,
   "id": "90963301",
   "metadata": {},
   "outputs": [
    {
     "data": {
      "text/plain": [
       "square_feet    0.974594\n",
       "license        1.000000\n",
       "dtype: float64"
      ]
     },
     "execution_count": 669,
     "metadata": {},
     "output_type": "execute_result"
    }
   ],
   "source": [
    "# For Boston Listings The null proportion per column\n",
    "#b_list.isnull().sum()[b_list.isnull().sum()>0]/b_list.shape[0]*100\n",
    "# For Seatle Listings The null proportion per column\n",
    "#s_list.isnull().sum()[s_list.isnull().sum()>0]/s_list.shape[0]*100\n",
    "b_list_nan = b_list.isnull().sum()/b_list.shape[0]\n",
    "s_list_nan = s_list.isnull().sum()/s_list.shape[0]\n",
    "#b_list_nan[b_list_nan>.75]\n",
    "s_list_nan[s_list_nan>.75]\n",
    "#b_list_nan[b_list_nan>.5]\n",
    "#s_list_nan[s_list_nan>.5]"
   ]
  },
  {
   "cell_type": "markdown",
   "id": "289cc93a",
   "metadata": {},
   "source": [
    "# Examine columns closely to prep them correctly!"
   ]
  },
  {
   "cell_type": "code",
   "execution_count": 582,
   "id": "33314a9d",
   "metadata": {},
   "outputs": [],
   "source": [
    "#Function 1\n",
    "#list(df.select_dtypes(include =['object']).columns)\n",
    "def add_len_text(df, to_len_text):\n",
    "    for col in to_len_text :\n",
    "        len_text = []\n",
    "        for i in df[col]:\n",
    "            try:\n",
    "                len_text.append(len(i))\n",
    "            except:\n",
    "                len_text.append(i)\n",
    "        df = df.drop(col, axis = 1)\n",
    "        len_text = pd.Series(len_text)        \n",
    "        len_text = len_name.reset_index(drop = True)\n",
    "        df[\"len_\"+col] = len_text\n",
    "    return df                      "
   ]
  },
  {
   "cell_type": "code",
   "execution_count": null,
   "id": "286ae6c4",
   "metadata": {},
   "outputs": [],
   "source": [
    "def drop_fix_type(df, drop_cols, to_float, to_date, to_binary, to_len_text ):"
   ]
  },
  {
   "cell_type": "code",
   "execution_count": null,
   "id": "57e59049",
   "metadata": {},
   "outputs": [],
   "source": [
    "############################# To Do :\n",
    "\n",
    "#(Depending on the questions I am posing at the end of the exploration):\n",
    "#-----------------------------------------------------------------------\n",
    "\n",
    "\n",
    "#------------------------------------check correlations before modeling----------------------------------------------------\n",
    "\n",
    "#to_break\n",
    "#---------\n",
    "#maximum_nights   ++   *             \"needs work on it Maybe drop maybe divide into ranges\"\n",
    "\n",
    "#to_count\n",
    "#---------\n",
    "#host_verifications    +++           \"count, \n",
    "#amenities     +++                   \"count,\n",
    "\n",
    "#to_binary\n",
    "#---------\n",
    "#picture_url     +++                 \"Transform to a parallel col of 0 &1, boolean, t or f \n",
    "\n",
    "#to_len_text \n",
    "#--------------\n",
    "#name                     \"object, text \"\"\n",
    "#host_about               \"object, text \"\"\n",
    "#summary -                \"object, text \"\" \n",
    "#description *            \"object, text \"\"                  \n",
    "#neighborhood_overview *  \"object, text \"\"\n",
    "#transit - \n",
    "#--------------------------------------------------------------------------------------------------------------------------\n",
    "\n",
    "#to_float\n",
    "#---------\n",
    "#cleaning_fee  ++++                     \"Öbject, Transform to numeric\"\"      30% null boston,27% seatle\n",
    "#host_response_rate   +++++             \"Öbject, Transform to numeric\", \n",
    "#host_acceptance_rate  +++++            \"Öbject, Transform to numeric\", \n",
    "#host_response_rate   +++++             \"Öbject, Transform to numeric\",  \n",
    "#host_acceptance_rate  +++++            \"Öbject, Transform to numeric\", \n",
    "#extra_people   ++++                    \"Öbject, Transform to numeric\", \n",
    "#price      +++++                       \"Öbject, Transform to numeric\", \n",
    "\n",
    "#--------------------------------------------------------------------------------------------------------------------------\n",
    "#to_drop\n",
    "#--------\n",
    "#reason> little use \n",
    "#------------------\n",
    "listing_url, scrape_id, last_scraped, experiences_offered, thumbnail_url,xl_picture_url, medium_url,\n",
    ", host_id, host_url, host_thumbnail_url, host_picture_url, host_total_listings_count, neighbourhood, neighbourhood_group_cleansed,\n",
    "state, country_code, country, latitude, longitude , has_availability, calendar_last_scraped, host_name\n",
    " \n",
    "\n",
    "# reason> only in boston\n",
    "#------------------\n",
    "access , interaction, house_rules\n",
    "\n",
    "#reason>  Nulls, 0 variability or extreme variability 1000+ unique:\n",
    "#-----------------------------------------------------------------\n",
    "#square_feet +++                        \"Float,                       90% null boston , 97% seatle ___ sadder\"\n",
    "#weekly_price +++++   *               \"Öbject, Transform to numeric\"\"  75% Null boston, 47% seatle ___sadder b\n",
    "#monthly_price +++++  *               \"Öbject, Transform to numeric\"  75% Null boston ,  60% seatle__saddder b\n",
    "#security_deposit +++                \"Öbject, Transform to numeric\"\"    65% Null boston  51 % seatle___sad b, sad s\n",
    "#notes *                             \"object, short text\"               55% null b, 42% null___ sad B, sad S\n",
    "#jurisdiction_names\n",
    "#license\n",
    "#requires_license\n",
    "#street                              \"1200, 1400 unique values\"\n",
    "\n",
    "\n",
    "\n",
    "######################## As is now (check later)\n",
    "\n",
    "#market  +++                        \"object, 5 B, (1) S___ !!!\n",
    "#property_type    ++++              \"object, 14 B, 17 S, unique property type apartment, house, etc. \"\n",
    "#host_location     +++,             \"object, 171 B, 121 s unique, \"\n",
    "#host_neighbourhood   +++++         \"object, 54 B, 103 S unqiue ?????,\n",
    "#neighbourhood_cleansed ++++        \"object, 25 B, 87 S unique,  \"\n",
    "#city   ++++                        \"object, 39 B, 7 S unique values\"\n",
    "#zipcode ++++                       \"object, 44 B, 29 S unique values,\n",
    "#smart_location  ++++               \"object, 39 B, 7 S unique values '\n",
    "#calendar_updated ++                \"object, 38 B, 34 S unique, \n",
    "#cancellation_policy                \"object, 4 B, 3 s unique  '\n",
    "\n",
    "#host_response_time ++++,           \"5 unique, object, ordinal\"\n",
    "#room_type         ++++             \"3 unique 'Entire home/apt', 'Private room', 'Shared room'\"\n",
    "#bed_type      ++++                 \"5 unique, Real Bed', 'Futon', 'Pull-out Sofa', 'Airbed', 'Couch'\n",
    "\n",
    "#host_has_profile_pic ++                 \"object, t or f\"\n",
    "#host_identity_verified                  \"object, t or f\"\n",
    "#host_is_superhost     +++++             \"object, t or f\" \n",
    "#is_location_exact ++++                  \"object, t or f\"\n",
    "#instant_bookable                        \"object, t or f\"\n",
    "#require_guest_profile_picture           \"object, t or f\"\n",
    "#require_guest_phone_verification        \"object, t or f\"\n",
    "\n",
    "#accommodates      ++++               \"int\"\n",
    "#availability_30                      \"int\"\n",
    "#availability_60                      \"int\"\n",
    "#availability_90                      \"int\"\n",
    "#availability_365                     \"int\"\n",
    "#number_of_reviews                    \"int\"\n",
    "#guests_included +++++                \"int\"\n",
    "#minimum_nights +++++                 \"int\"\n",
    "#calculated_host_listings_count       \"int\"\n",
    "\n",
    "#host_listings_count   +++++          \"Float\" \n",
    "#bathrooms          ++++              \"Float\"\n",
    "#bedrooms         ++++                \"Float\"\n",
    "#beds                ++++             \"Float\"\n",
    "#review_scores_rating                 \"float, INvestigate what is this ?? \"\n",
    "#review_scores_accuracy               \"float\"\n",
    "#review_scores_cleanliness            \"float\"\n",
    "#review_scores_checkin                \"float\"\n",
    "#review_scores_communication          \"float\"\n",
    "#review_scores_location               \"float\"\n",
    "#review_scores_value                  \"float\"\n",
    "#reviews_per_month                    \"Float\""
   ]
  },
  {
   "cell_type": "code",
   "execution_count": 728,
   "id": "d9752fd6",
   "metadata": {},
   "outputs": [
    {
     "data": {
      "text/plain": [
       "array([15, 20, 16, 17, 18, 19], dtype=int64)"
      ]
     },
     "execution_count": 728,
     "metadata": {},
     "output_type": "execute_result"
    }
   ],
   "source": [
    "## Examine to decide and construct the functions !!!!! \n",
    "b_list.maximum_nights.unique()[(b_list.maximum_nights.unique()<=20)&(b_list.maximum_nights.unique()>14)]"
   ]
  },
  {
   "cell_type": "markdown",
   "id": "2f5135aa",
   "metadata": {},
   "source": [
    "/////////////////////////////////////////////////////////////////////////////////////////////////////////////////////////////////////////////////////////////////////////////////////////////////////////////////////////////////////////////////////\n",
    "### Comments:  \n",
    "[Boston & Seatle Listings]\n",
    "- Boston listings size : `3585`, `95`\n",
    "- Seatle listings size : `3818`, `92`\n",
    "- Boston Listings has 3 cols that arent in Seatle, `house_rules`, `access`, `interaction`, types: `Object/String`\n",
    "- Number of Non-null cols in Boston listings:  `51`, around half\n",
    "- Number of Non-null cols in Seatle listings:  `47`, around half\n"
   ]
  },
  {
   "cell_type": "code",
   "execution_count": null,
   "id": "949c6855",
   "metadata": {},
   "outputs": [],
   "source": []
  }
 ],
 "metadata": {
  "kernelspec": {
   "display_name": "Python 3",
   "language": "python",
   "name": "python3"
  },
  "language_info": {
   "codemirror_mode": {
    "name": "ipython",
    "version": 3
   },
   "file_extension": ".py",
   "mimetype": "text/x-python",
   "name": "python",
   "nbconvert_exporter": "python",
   "pygments_lexer": "ipython3",
   "version": "3.8.8"
  }
 },
 "nbformat": 4,
 "nbformat_minor": 5
}
