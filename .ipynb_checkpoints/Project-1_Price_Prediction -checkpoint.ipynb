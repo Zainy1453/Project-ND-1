{
 "cells": [
  {
   "cell_type": "markdown",
   "id": "c5f5ac01",
   "metadata": {},
   "source": [
    "### Q: What aspects of a listing predict the price? In other words if I have a listing what can I do to increase my chances of renting at a higher price? "
   ]
  },
  {
   "cell_type": "markdown",
   "id": "299dc4f3",
   "metadata": {},
   "source": [
    "First, let's read in the data and necessary libraries."
   ]
  },
  {
   "cell_type": "code",
   "execution_count": 2,
   "id": "434912d1",
   "metadata": {},
   "outputs": [],
   "source": [
    "import numpy as np\n",
    "import pandas as pd\n",
    "import matplotlib.pyplot as plt\n",
    "import seaborn as sns\n",
    "from mypy import print_side_by_side\n",
    "from mypy import display_side_by_side\n",
    "%matplotlib inline"
   ]
  },
  {
   "cell_type": "code",
   "execution_count": 3,
   "id": "2fc34dc6",
   "metadata": {},
   "outputs": [],
   "source": [
    "b_cal = pd.read_csv('boston_calendar.csv')\n",
    "b_list = pd.read_csv('boston_listings.csv')\n",
    "b_rev = pd.read_csv('boston_reviews.csv')\n",
    "\n",
    "s_cal = pd.read_csv('seatle_calendar.csv')\n",
    "s_list = pd.read_csv('seatle_listings.csv')\n",
    "s_rev = pd.read_csv('seatle_reviews.csv')"
   ]
  },
  {
   "cell_type": "code",
   "execution_count": null,
   "id": "5ee80e3d",
   "metadata": {},
   "outputs": [],
   "source": []
  },
  {
   "cell_type": "markdown",
   "id": "c1f4bda7",
   "metadata": {},
   "source": [
    "### Task2: Data Understanding"
   ]
  }
 ],
 "metadata": {
  "kernelspec": {
   "display_name": "Python 3",
   "language": "python",
   "name": "python3"
  },
  "language_info": {
   "codemirror_mode": {
    "name": "ipython",
    "version": 3
   },
   "file_extension": ".py",
   "mimetype": "text/x-python",
   "name": "python",
   "nbconvert_exporter": "python",
   "pygments_lexer": "ipython3",
   "version": "3.8.8"
  }
 },
 "nbformat": 4,
 "nbformat_minor": 5
}
